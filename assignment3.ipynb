{
  "nbformat": 4,
  "nbformat_minor": 0,
  "metadata": {
    "colab": {
      "provenance": []
    },
    "kernelspec": {
      "name": "python3",
      "display_name": "Python 3"
    },
    "language_info": {
      "name": "python"
    }
  },
  "cells": [
    {
      "cell_type": "markdown",
      "source": [
        "1. What is the difference between a function and a method in Python?"
      ],
      "metadata": {
        "id": "_RSLJ9ltUoeL"
      }
    },
    {
      "cell_type": "markdown",
      "source": [
        "'''Function is a block of code that can be called when ever it is required in the program.\n",
        "\n",
        "where as the method is a function which is used in the the class or a imported package and we call the requried method to perform the task '''\n",
        "\n"
      ],
      "metadata": {
        "id": "Xrweo-vupOyN"
      }
    },
    {
      "cell_type": "code",
      "source": [
        "#function\n",
        "\n",
        "def test(name):\n",
        "\n",
        "  print(f\"hi how are you {name} ?\" )\n",
        "\n",
        "test(\"vamsi\")\n",
        "#Method\n",
        "\n",
        "import math\n",
        "\n",
        "print (math.ceil(34.564)) # here we imported a math package and called a method from it which is Ceil\n",
        "\n",
        "\n",
        "\n"
      ],
      "metadata": {
        "colab": {
          "base_uri": "https://localhost:8080/"
        },
        "id": "iFwzIlIDpTcf",
        "outputId": "a97270a3-c686-41df-e676-ca46e2b8a9a5"
      },
      "execution_count": null,
      "outputs": [
        {
          "output_type": "stream",
          "name": "stdout",
          "text": [
            "hi how are you vamsi ?\n",
            "35\n"
          ]
        }
      ]
    },
    {
      "cell_type": "markdown",
      "source": [
        "2. Explain the concept of function arguments and parameters in Python.\n",
        "\n"
      ],
      "metadata": {
        "id": "ALtFhGk_pWas"
      }
    },
    {
      "cell_type": "code",
      "source": [
        "'''default parameters are used when we want to give a defalut value for the argument when the value is not given '''\n",
        "\n",
        "def default(a,b,c=6):\n",
        "\n",
        "  return a+b+c\n",
        "\n",
        "default(5,2) # where it takes the c as a default value\n",
        "\n",
        "\n",
        "\n",
        "'''variable length arguments '''\n",
        "\n",
        "'''*args is used when we dont know how many parameters are there'''\n",
        "\n",
        "def args(*args):\n",
        "\n",
        "  s=0\n",
        "\n",
        "  for i in args:\n",
        "\n",
        "    s+=i\n",
        "\n",
        "  return s\n",
        "\n",
        "args(3,4,6,2,1)\n",
        "\n",
        "\n",
        "\n",
        "'''**kwags is similar like args can take many arguments but it takes keyword arguments and store it as a dictionary values'''\n",
        "\n",
        "def kwag(**kwags):\n",
        "\n",
        "  return kwags\n",
        "\n",
        "kwag(a=8,b=9,num=90)\n",
        "\n"
      ],
      "metadata": {
        "id": "VZL7kikc4UPU"
      },
      "execution_count": null,
      "outputs": []
    },
    {
      "cell_type": "markdown",
      "source": [
        "3. What are the different ways to define and call a function in Python?\n",
        "\n"
      ],
      "metadata": {
        "id": "RgiDLKKMp0wI"
      }
    },
    {
      "cell_type": "code",
      "source": [
        "# define Function\n",
        "\n",
        " #basic syntax\n",
        "\n",
        "def test(name):\n",
        "\n",
        "  print(f\"hi how are you {name} ?\" )\n",
        "   #lambda\n",
        "\n",
        "testlambda = lambda name: print(\"hi this is working ,\" ,name)\n",
        "\n",
        "testlambda(\"vamsi\")\n",
        "\n",
        "\n",
        "\n",
        "#Call\n",
        "\n",
        "test(\"vamsi\") #by calling the function\n",
        "\n",
        "bucket= testlambda(\"Amit\")\n",
        "\n",
        "bucket # by assigning the function to the variable and calling it back\n",
        "\n",
        "\n",
        "\n",
        "\n",
        "\n"
      ],
      "metadata": {
        "colab": {
          "base_uri": "https://localhost:8080/"
        },
        "id": "kFEcSExmp83X",
        "outputId": "89bf23bb-81ca-4445-a990-5cb01f3bead0"
      },
      "execution_count": null,
      "outputs": [
        {
          "output_type": "stream",
          "name": "stdout",
          "text": [
            "hi this is working , vamsi\n",
            "hi how are you vamsi ?\n",
            "hi this is working , Amit\n"
          ]
        }
      ]
    },
    {
      "cell_type": "markdown",
      "source": [
        "4. What is the purpose of the 'return statement in a Python function?\n",
        "\n"
      ],
      "metadata": {
        "id": "uisZVel2qdsB"
      }
    },
    {
      "cell_type": "code",
      "source": [
        "'''Return is mainly used the function to return a value either it is a boolean or a integer value or a string according to the requirement of the given code when the function is called'''\n",
        "\n",
        "def cube(num):\n",
        "\n",
        "  return num*num*num\n",
        "\n",
        "cube(8)\n",
        "\n"
      ],
      "metadata": {
        "id": "uHEMJCoZqegp"
      },
      "execution_count": null,
      "outputs": []
    },
    {
      "cell_type": "markdown",
      "source": [
        "5. What are iterators in Python and how do they differ from iterables?\n",
        "\n"
      ],
      "metadata": {
        "id": "B_Vp23Gkqv5j"
      }
    },
    {
      "cell_type": "code",
      "source": [
        "'''Iterable is a object which is able to iterate . Iterator is used to iter the iterable using next() when ever it is called'''\n",
        "\n",
        "s=\"Datascience\"\n",
        "\n",
        "k=iter(s)   # here k is a iterable object\n",
        "\n",
        "next(k)    # next is a iterator\n",
        "\n",
        "next(k)\n",
        "\n"
      ],
      "metadata": {
        "id": "oEgsRmiG4hJf"
      },
      "execution_count": null,
      "outputs": []
    },
    {
      "cell_type": "markdown",
      "source": [
        "6. Explain the concept of generators in Python and how they are defined.\n",
        "\n"
      ],
      "metadata": {
        "id": "3i1JzyNOq0Db"
      }
    },
    {
      "cell_type": "code",
      "source": [
        "'''Generators are used similar like the iterables but the only difference is that when ever the loop starts\n",
        "\n",
        "\n",
        "\n",
        "it will not store the generated value it first execute it and then goes to the next and executes it which will uses less disk space'''\n",
        "\n",
        "\n",
        "\n",
        "def square(num):\n",
        "\n",
        "\n",
        "\n",
        " for i in range (num):\n",
        "\n",
        "\n",
        "\n",
        "  yield i*i\n",
        "\n",
        "\n",
        "\n",
        "gen=square(4)\n",
        "\n",
        "\n",
        "\n",
        "next(gen)\n",
        "\n",
        "\n",
        "\n",
        "next(gen)\n",
        "\n",
        "\n",
        "\n",
        "next(gen)\n",
        "\n"
      ],
      "metadata": {
        "colab": {
          "base_uri": "https://localhost:8080/"
        },
        "id": "tMXAutp6q1CP",
        "outputId": "44acd364-1d68-445e-e32e-23f1eca12c5f"
      },
      "execution_count": null,
      "outputs": [
        {
          "output_type": "execute_result",
          "data": {
            "text/plain": [
              "4"
            ]
          },
          "metadata": {},
          "execution_count": 7
        }
      ]
    },
    {
      "cell_type": "markdown",
      "source": [
        "7. What are the advantages of using generators over regular functions?\n",
        "\n"
      ],
      "metadata": {
        "id": "RzpexwlbrAJp"
      }
    },
    {
      "cell_type": "markdown",
      "source": [
        "'''Generators are mainly used when we want to execute the loop till the user is satisfied or infinite times and when we dont\n",
        "\n",
        "know how many times we need to loop it. we can continue till the infinity by just calling the function with next.'''\n",
        "\n"
      ],
      "metadata": {
        "id": "frQg7KDjrD89"
      }
    },
    {
      "cell_type": "markdown",
      "source": [
        "8. What is a lambda function in Python and when is it typically used?\n",
        "\n"
      ],
      "metadata": {
        "id": "7vrv-y5urNV7"
      }
    },
    {
      "cell_type": "code",
      "source": [
        "'''Lambda function is also called as short hand code where is used to write the codes in a single line '''\n",
        "\n",
        "def sumofnum(n):\n",
        "\n",
        "  sum=0\n",
        "\n",
        "  for i in range(n+1):\n",
        "\n",
        "    sum+=i\n",
        "\n",
        "  return sum\n",
        "\n",
        "sumofnum(30)\n",
        "\n",
        "\n",
        "\n",
        "s=0\n",
        "\n",
        "rangesum= lambda n : (print(sum((i) for i in range(n+1))))\n",
        "\n",
        "rangesum(3)\n",
        "\n",
        "\n",
        "\n"
      ],
      "metadata": {
        "colab": {
          "base_uri": "https://localhost:8080/"
        },
        "id": "dU3CAcg1rR33",
        "outputId": "34e6a53d-1b10-448e-d275-3a74f95b70e3"
      },
      "execution_count": null,
      "outputs": [
        {
          "output_type": "stream",
          "name": "stdout",
          "text": [
            "6\n"
          ]
        }
      ]
    },
    {
      "cell_type": "markdown",
      "source": [
        "9. Explain the purpose and usage of the map() function in Python.\n",
        "\n"
      ],
      "metadata": {
        "id": "EJlDCXhRrZSj"
      }
    },
    {
      "cell_type": "code",
      "source": [
        "'''Map() is used when we want to use a particular function to the iterables '''\n",
        "\n",
        "l=[2,3,4,5]\n",
        "\n",
        "def sq(x):\n",
        "\n",
        "  return x*x\n",
        "\n",
        "\n",
        "\n",
        "print(list(map(sq,l)))\n",
        "\n"
      ],
      "metadata": {
        "id": "Qy2rCiEerkje"
      },
      "execution_count": null,
      "outputs": []
    },
    {
      "cell_type": "markdown",
      "source": [
        "10. What is the difference between 'map()\", \"reduce(), and filter() functions in Python?\n",
        "\n"
      ],
      "metadata": {
        "id": "SPh9AHbUrn1t"
      }
    },
    {
      "cell_type": "markdown",
      "source": [
        "'''Map() is used to apply function to a particular iterable by returning the list.\n",
        "\n",
        "Reduce() is used to produce a single value by taking x and y perform the function then it will take the next value and the result of\n",
        "\n",
        "previous will also taken and performs the function . Filter () is used to remove the vlaues from the list based on the condition\n",
        "\n",
        "where it will gives only true and false '''\n",
        "\n"
      ],
      "metadata": {
        "id": "ASw6T_t7rshp"
      }
    },
    {
      "cell_type": "markdown",
      "source": [
        "11. Using pen & Paper write the internal mechanism for sum operation using reduce function on this given list: [47,11,42,13];\n",
        "\n"
      ],
      "metadata": {
        "id": "PNCTKUIKrt7i"
      }
    },
    {
      "cell_type": "markdown",
      "source": [
        "![img.jpg](data:image/jpeg;base64,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)"
      ],
      "metadata": {
        "id": "3rI56FzhRUlU"
      }
    },
    {
      "cell_type": "markdown",
      "source": [
        "##Practical questions:\n",
        "\n"
      ],
      "metadata": {
        "id": "DlCjq2pDSiQV"
      }
    },
    {
      "cell_type": "code",
      "source": [
        "#1)\n",
        "def evensumlist(l):\n",
        "\n",
        "  s=0\n",
        "\n",
        "  for i in l:\n",
        "\n",
        "    if i%2==0:\n",
        "\n",
        "      s=s+i\n",
        "\n",
        "  return [s]\n",
        "\n",
        "evensumlist([2,3,4,5,6])"
      ],
      "metadata": {
        "id": "xzjQORJxSjY5"
      },
      "execution_count": null,
      "outputs": []
    },
    {
      "cell_type": "code",
      "source": [
        "#2)\n",
        "\n",
        "def revs(s):\n",
        "\n",
        "  return s[::-1]\n",
        "\n",
        "revs(\"Pwskills\")\n",
        "\n",
        "\n"
      ],
      "metadata": {
        "id": "H-yYgtgATIVO"
      },
      "execution_count": null,
      "outputs": []
    },
    {
      "cell_type": "code",
      "source": [
        "\n",
        "#3)\n",
        "\n",
        "\n",
        "def sq(l):\n",
        "\n",
        "  for i in range(len(l)):\n",
        "\n",
        "    l[i]= l[i]*l[i]\n",
        "\n",
        "  return l\n",
        "\n",
        "li=[2,3,4]\n",
        "\n",
        "sq(li)\n"
      ],
      "metadata": {
        "id": "RhYP1snRTQRB"
      },
      "execution_count": null,
      "outputs": []
    },
    {
      "cell_type": "code",
      "source": [
        "#4)\n",
        "\n",
        "\n",
        "def prime(n):\n",
        "\n",
        "  c=0\n",
        "\n",
        "  for i in range(2,n):\n",
        "\n",
        "    if n%i==0:\n",
        "\n",
        "     c=c+1\n",
        "\n",
        "  if c==0:\n",
        "\n",
        "    return \"Prime\"\n",
        "\n",
        "  else:\n",
        "\n",
        "    return \"Not Prime\"\n",
        "\n",
        "\n",
        "\n",
        "prime(517)\n",
        "\n",
        "\n"
      ],
      "metadata": {
        "colab": {
          "base_uri": "https://localhost:8080/",
          "height": 36
        },
        "id": "f660kD1sTYY7",
        "outputId": "217930bc-4a35-4485-bedd-a04bcde16f10"
      },
      "execution_count": 1,
      "outputs": [
        {
          "output_type": "execute_result",
          "data": {
            "text/plain": [
              "'Not Prime'"
            ],
            "application/vnd.google.colaboratory.intrinsic+json": {
              "type": "string"
            }
          },
          "metadata": {},
          "execution_count": 1
        }
      ]
    },
    {
      "cell_type": "code",
      "source": [
        "\n",
        "#5)\n",
        "\n",
        "\n",
        "\n",
        "def fibonacci(n):\n",
        "\n",
        "  if n==0:\n",
        "\n",
        "    return 0\n",
        "\n",
        "  if n==1:\n",
        "\n",
        "    return 1\n",
        "\n",
        "  n1=0\n",
        "\n",
        "  n2=1\n",
        "\n",
        "  for i in range(2,n+1):\n",
        "\n",
        "    s=n1+n2\n",
        "\n",
        "    n1=n2\n",
        "\n",
        "    n2=s\n",
        "\n",
        "  return s\n",
        "\n",
        "fibonacci(2)\n",
        "\n"
      ],
      "metadata": {
        "colab": {
          "base_uri": "https://localhost:8080/"
        },
        "id": "bfdO62fWTfoP",
        "outputId": "e2e84021-2e30-46ae-f87f-7b9e54973718"
      },
      "execution_count": 2,
      "outputs": [
        {
          "output_type": "execute_result",
          "data": {
            "text/plain": [
              "1"
            ]
          },
          "metadata": {},
          "execution_count": 2
        }
      ]
    },
    {
      "cell_type": "code",
      "source": [
        "#6)\n",
        "\n",
        "def power2(expo):\n",
        "\n",
        "  for i in range(expo+1):\n",
        "\n",
        "    yield 2**i\n",
        "\n",
        "loop=power2(5)\n",
        "\n",
        "next(loop)\n",
        "\n",
        "next(loop)\n",
        "\n",
        "next(loop)\n",
        "\n",
        "next(loop)\n",
        "\n",
        "next(loop)\n",
        "\n",
        "next(loop)\n",
        "\n",
        "\n",
        "\n"
      ],
      "metadata": {
        "id": "ecw_LAxYTsjK"
      },
      "execution_count": null,
      "outputs": []
    },
    {
      "cell_type": "code",
      "source": [
        "#7)\n",
        "\n",
        "\n",
        "def filen(file_name):\n",
        "\n",
        "  for i in open(file_name, \"r\"):\n",
        "\n",
        "    yield i\n",
        "\n",
        "\n",
        "\n"
      ],
      "metadata": {
        "id": "gRyjW_evTsfu"
      },
      "execution_count": 3,
      "outputs": []
    },
    {
      "cell_type": "code",
      "source": [
        "#8)\n",
        "\n",
        "\n",
        "l=[(4,2),(5,1),(8,3)]\n",
        "\n",
        "l.sort(key=lambda t:t[1])\n",
        "\n",
        "l"
      ],
      "metadata": {
        "colab": {
          "base_uri": "https://localhost:8080/"
        },
        "id": "rV3Y6CgJUCWz",
        "outputId": "eb13b560-0270-4f83-db5d-03ae8978a203"
      },
      "execution_count": 4,
      "outputs": [
        {
          "output_type": "execute_result",
          "data": {
            "text/plain": [
              "[(5, 1), (4, 2), (8, 3)]"
            ]
          },
          "metadata": {},
          "execution_count": 4
        }
      ]
    },
    {
      "cell_type": "code",
      "source": [
        "\n",
        "#9)\n",
        "\n",
        "def celtoF(li):\n",
        "\n",
        "\n",
        "\n",
        "  return (li*(9/5)+32)\n",
        "\n",
        "\n",
        "\n",
        "l=[45,34,25,77]\n",
        "\n",
        "list(map(celtoF,l))\n"
      ],
      "metadata": {
        "id": "KjsS8kDvUCTX"
      },
      "execution_count": null,
      "outputs": []
    },
    {
      "cell_type": "code",
      "source": [
        "\n",
        "#10)\n",
        "\n",
        "def vowels(stri):\n",
        "\n",
        "  new=''\n",
        "\n",
        "  for i in stri:\n",
        "\n",
        "    if (i.lower()=='a' or i.lower()=='e' or i.lower()=='i' or i.lower()=='o' or i.lower()=='u'):\n",
        "\n",
        "      new=new+''\n",
        "\n",
        "    else:\n",
        "\n",
        "      new= new +i\n",
        "\n",
        "  return new\n",
        "\n",
        "s=\"vamsi\"\n",
        "\n",
        "list(filter(vowels,s))\n",
        "\n",
        "\n"
      ],
      "metadata": {
        "colab": {
          "base_uri": "https://localhost:8080/"
        },
        "id": "NS_xVQn8UCKJ",
        "outputId": "14bced1f-3838-4dca-9612-ff3919b9310f"
      },
      "execution_count": 5,
      "outputs": [
        {
          "output_type": "execute_result",
          "data": {
            "text/plain": [
              "['v', 'm', 's']"
            ]
          },
          "metadata": {},
          "execution_count": 5
        }
      ]
    },
    {
      "cell_type": "code",
      "source": [
        "\n",
        "#11)\n",
        "\n",
        "\n",
        "orders = [ [34587, \"Learning Python, Mark Lutz\", 4, 40.95], [98762, \"Programming Python, Mark Lutz\", 5, 56.80],\n",
        "\n",
        "  [77226, \"Head First Python, Paul Barry\", 3, 32.95], [88112, \"Einführung in Python3, Bernd Klein\", 3, 24.99]]\n",
        "\n",
        "\n",
        "\n",
        "output= list(map(lambda order: (order[0],order[2]*order[3]+10 if order[2]*order[3]<=100000 else order[2]*order[3]),orders ))\n",
        "\n",
        "print(output)"
      ],
      "metadata": {
        "colab": {
          "base_uri": "https://localhost:8080/"
        },
        "id": "NKE419QZUWHV",
        "outputId": "8dda6277-2bb4-4524-a82b-8f0c80d98cd2"
      },
      "execution_count": 6,
      "outputs": [
        {
          "output_type": "stream",
          "name": "stdout",
          "text": [
            "[(34587, 173.8), (98762, 294.0), (77226, 108.85000000000001), (88112, 84.97)]\n"
          ]
        }
      ]
    }
  ]
}