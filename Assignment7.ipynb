{
  "nbformat": 4,
  "nbformat_minor": 0,
  "metadata": {
    "colab": {
      "provenance": []
    },
    "kernelspec": {
      "name": "python3",
      "display_name": "Python 3"
    },
    "language_info": {
      "name": "python"
    }
  },
  "cells": [
    {
      "cell_type": "markdown",
      "source": [
        "## **exceptional_handling**"
      ],
      "metadata": {
        "id": "v0-aWtV-fhZS"
      }
    },
    {
      "cell_type": "markdown",
      "source": [
        "1)What is the difference between interpreted and compiled languages?\n",
        "\n",
        "Ans: Interpreted languages code is executed line by line. where the interpretor converts the code to byte code. it is slow compare with Compiled language.\n",
        "Compiled language code is executed by the compiler. Compiler converts the code to byte code.It is faster compare with Interpreted language."
      ],
      "metadata": {
        "id": "zo7-qtVSbaIh"
      }
    },
    {
      "cell_type": "markdown",
      "source": [
        "2) What is exception handling in Python?\n",
        "\n",
        "Ans:It is the process of handling the errors which are generated during the exceution of the code. This helps to find where the error is generated what is the error and the main is it will not stop the whole code in the middle."
      ],
      "metadata": {
        "id": "nxBUE3uaiyjr"
      }
    },
    {
      "cell_type": "markdown",
      "source": [
        "3)What is the purpose of the finally block in exception handling?\n",
        "\n",
        "Ans:Finally block in exception handling is optional. where is executed after the try and catch block even though the code has exception or not ."
      ],
      "metadata": {
        "id": "Ig07sHAZkK48"
      }
    },
    {
      "cell_type": "markdown",
      "source": [
        "4)What is logging in Python?\n",
        "\n",
        "Ans:Logging is used to record the flow of the code. it is helpful for understanding, monitoring and debugging the code when ever we requrie. we can check the logs with the timestamp also so we can go and check the previous data."
      ],
      "metadata": {
        "id": "hyA2HBGwlktT"
      }
    },
    {
      "cell_type": "markdown",
      "source": [
        "5)What is the significance of the __del__ method in Python?\n",
        "\n",
        "Ans: this is also called as the destructor. it is called when we want to make the object to the garbage collector ."
      ],
      "metadata": {
        "id": "Cwpr1gAWoMZY"
      }
    },
    {
      "cell_type": "markdown",
      "source": [
        "6)What is the difference between import and from __ import in Python?\n",
        "\n",
        "Ans:import is used to extract whole module which specified and from import takes only the function which are specified from the module."
      ],
      "metadata": {
        "id": "kOsrPbQHnMGD"
      }
    },
    {
      "cell_type": "markdown",
      "source": [
        "7)How can you handle multiple exceptions in Python?\n",
        "\n",
        "Ans: To handle the multiple exceptions we can use multiple expect blocks in the try expect block and we can also use the else and finally for the multiple exceptions."
      ],
      "metadata": {
        "id": "HFR3y5xNnpR-"
      }
    },
    {
      "cell_type": "markdown",
      "source": [
        "8)What is the purpose of the with statement when handling files in Python?\n",
        "\n",
        "Ans: it is mainly used when we are using the files where it will safely close the files when the code is exceuted. So that the file will update with given input."
      ],
      "metadata": {
        "id": "Z8nrr4tgodHa"
      }
    },
    {
      "cell_type": "markdown",
      "source": [
        "9) What is the difference between multithreading and multiprocessing?\n",
        "\n",
        "Ans: Multithreading is used when we want to run multiple programs on same memory and also used when the multiple programs are having high waiting time so when one program is in wait state then in multithreading it will start the other program in this way we can save the waiting time.\n",
        "Multiprocessing is used to run multiple programs in seperate memory.which are crucial and which operations shouldn't be interrupted.this takes more time compare with Multithreading."
      ],
      "metadata": {
        "id": "F_JLWj1EpCz6"
      }
    },
    {
      "cell_type": "markdown",
      "source": [
        " 10)What are the advantages of using logging in a program?\n",
        "\n",
        " Ans: Logging is used to monitor debug auditing. When ever the code is runned then in the logging it will note the timestap and it also updates at which time what line was exceuted and becuase of this we can find where the code is taking more time, so we can modify. And we can audit like who run the code how much time the code took to run.\n",
        "\n"
      ],
      "metadata": {
        "id": "RbVUCsQgWaQy"
      }
    },
    {
      "cell_type": "markdown",
      "source": [
        "11)What is memory management in Python?\n",
        "\n",
        "Ans:Memory management in python involves effectively allocating and releasing memory for objects during the program execution, a critical aspect of resource mamagement for smooth program operation.\n"
      ],
      "metadata": {
        "id": "0YUAyRstZc3_"
      }
    },
    {
      "cell_type": "markdown",
      "source": [
        "12)What are the basic steps involved in exception handling in Python?\n",
        "\n",
        "Ans: In exception handling we use try block for the code which has a potential that it will raise exception. and in except block we write the code which should be executed when the predicted exception will raise. Else and finally blocks are optional which can be added according to the requirement."
      ],
      "metadata": {
        "id": "zRIx0BmLae-l"
      }
    },
    {
      "cell_type": "markdown",
      "source": [
        "13)Why is memory management important in Python?\n",
        "\n",
        "Ans:Memory management in python involves effectively allocating and releasing memory for objects during the program execution, a critical aspect of resource mamagement for smooth program operation.\n"
      ],
      "metadata": {
        "id": "NSRCVXdYcVyB"
      }
    },
    {
      "cell_type": "markdown",
      "source": [
        "14)What is the role of try and except in exception handling?\n",
        "\n",
        "Ams:In exception handling we use try block for the code which has a potential that it will raise exception. and in except block we write the code which should be executed when the predicted exception will raise."
      ],
      "metadata": {
        "id": "NwhY_PjCcdnN"
      }
    },
    {
      "cell_type": "markdown",
      "source": [
        "15) How does Python's garbage collection system work?\n",
        "\n",
        "Ans: In python garbage collection the memory management is automatically managed which saves the manual memory allocation and deallocation."
      ],
      "metadata": {
        "id": "sgYy34L7cuZH"
      }
    },
    {
      "cell_type": "markdown",
      "source": [
        "16)What is the purpose of the else block in exception handling?\n",
        "\n",
        "Ans:it is optional. else block is executed only when the try block is executed with out any execption.\n"
      ],
      "metadata": {
        "id": "WmwImO51eZdy"
      }
    },
    {
      "cell_type": "markdown",
      "source": [
        "17)What are the common logging levels in Python?\n",
        "\n",
        "Ans: logging levels are debug,info,warning,error,critical.\n"
      ],
      "metadata": {
        "id": "o0Ji-BS2gQ2m"
      }
    },
    {
      "cell_type": "markdown",
      "source": [
        "18)What is the difference between os.fork() and multiprocessing in Python?\n",
        "\n",
        "Ans: Both are used for parallelsim but they are different where fork is faster compare with multi processing ."
      ],
      "metadata": {
        "id": "YIWHe8odhiIn"
      }
    },
    {
      "cell_type": "markdown",
      "source": [
        "19)What is the importance of closing a file in Python?\n",
        "\n",
        "Ans: Closing a file will save us from data loss and it will save memory so that we can open other file to perform a task and closing the file will save us from the security vulnerabilities."
      ],
      "metadata": {
        "id": "Y2F1CUY_knft"
      }
    },
    {
      "cell_type": "markdown",
      "source": [
        "20)What is the difference between file.read() and file.readline() in Python?\n",
        "\n",
        "Ans:by using File.read() we can read whole file data where as to read line by line we use file.readline() we can use this with while to read all the text in the file."
      ],
      "metadata": {
        "id": "JwZIx_nNmlmE"
      }
    },
    {
      "cell_type": "markdown",
      "source": [
        "21)What is the logging module in Python used for ?\n",
        "\n",
        "Ans:Logging is used to monitor debug auditing. When ever the code is runned then in the logging it will note the timestap and it also updates at which time what line was exceuted and becuase of this we can find where the code is taking more time, so we can modify. And we can audit like who run the code how much time the code took to run."
      ],
      "metadata": {
        "id": "ba2kDC1eopvR"
      }
    },
    {
      "cell_type": "markdown",
      "source": [
        "22) What is the os module in Python used for in file handling?\n",
        "\n",
        "Ans:Os module is mainly used to perform the file operations. we use os when we want to open a directory delete,rename the files and many other operations."
      ],
      "metadata": {
        "id": "7uHE4FESpq0B"
      }
    },
    {
      "cell_type": "markdown",
      "source": [
        "23)What are the challenges associated with memory management in Python?\n",
        "\n",
        "Ans: the challenges are sometimes it will slow down the program when cleaning,automatic cleaning will cause a data loss and we have limited control on it."
      ],
      "metadata": {
        "id": "Ner-MUbVrRMW"
      }
    },
    {
      "cell_type": "markdown",
      "source": [
        "24) How do you raise an exception manually in Python?\n",
        "\n",
        "Ans: class MyCustomError(Exception):\n",
        "\"custom exception class with the code in side this\"\n",
        "  pass\n",
        " \"we use raise for manual exception \"\n",
        "raise MyCustomError(\"Something went wrong.\")"
      ],
      "metadata": {
        "id": "_m8Y6MBhsOlK"
      }
    },
    {
      "cell_type": "markdown",
      "source": [
        "25)Why is it important to use multithreading in certain applications?\n",
        "\n",
        "Ans: It makes our faster and this make the task responsive. It is helps to save our time when there is more waiting time. to make the web interative if we use the multithreading then it will be where much faster and interactive."
      ],
      "metadata": {
        "id": "qw7fSJXDtZwR"
      }
    },
    {
      "cell_type": "markdown",
      "source": [
        "# **Practical Questions**"
      ],
      "metadata": {
        "id": "r0f4IYMBubdL"
      }
    },
    {
      "cell_type": "markdown",
      "source": [
        "1)How can you open a file for writing in Python and write a string to it?\n",
        "\n",
        "Ans:"
      ],
      "metadata": {
        "id": "A8Y_sEbyulej"
      }
    },
    {
      "cell_type": "code",
      "source": [
        "file= open(\"file.txt\",\"w\")\n",
        "file.write(\"Hi Hello\")\n",
        "file.close()"
      ],
      "metadata": {
        "id": "znEgJjK-FM_7"
      },
      "execution_count": null,
      "outputs": []
    },
    {
      "cell_type": "markdown",
      "source": [
        "2)Write a Python program to read the contents of a file and print each line?\n",
        "\n",
        "Ans:"
      ],
      "metadata": {
        "id": "FncQZISQNROv"
      }
    },
    {
      "cell_type": "code",
      "source": [
        "file=open (\"file.txt\",'r')\n",
        "for i in file:\n",
        "  print(i)\n",
        "file.close()"
      ],
      "metadata": {
        "colab": {
          "base_uri": "https://localhost:8080/"
        },
        "id": "X-WJHWjhFe8o",
        "outputId": "5ca3d045-bf1e-4519-d68d-637f0fb43526"
      },
      "execution_count": null,
      "outputs": [
        {
          "output_type": "stream",
          "name": "stdout",
          "text": [
            "Hi Hello\n"
          ]
        }
      ]
    },
    {
      "cell_type": "markdown",
      "source": [
        "3)How would you handle a case where the file doesn't exist while trying to open it for reading?\n",
        "\n",
        "Ans:"
      ],
      "metadata": {
        "id": "7xDZrNmGNv-I"
      }
    },
    {
      "cell_type": "code",
      "source": [
        "import os\n",
        "try:\n",
        "  with open(\"file.txt\",\"r\") as file:\n",
        "    if os.path.isfile(\"file.txt\"):\n",
        "      print(file.read())\n",
        "\n",
        "except FileNotFoundError:\n",
        "  print(\"File not found\")"
      ],
      "metadata": {
        "colab": {
          "base_uri": "https://localhost:8080/"
        },
        "id": "WIXUea_pZr01",
        "outputId": "675b2c02-85ea-4fca-e787-013e894977b2"
      },
      "execution_count": null,
      "outputs": [
        {
          "output_type": "stream",
          "name": "stdout",
          "text": [
            "File not found\n"
          ]
        }
      ]
    },
    {
      "cell_type": "markdown",
      "source": [
        "4)Write a Python script that reads from one file and writes its content to another file?\n",
        "\n",
        "Ans: file1 =open(\"file1.txt\",'r')\n",
        "\n",
        "file2=open(\"file2.txt\",'w')\n",
        "\n",
        "for i in file1:\n",
        "  file2.write(i)"
      ],
      "metadata": {
        "id": "qvwClBoQN8T5"
      }
    },
    {
      "cell_type": "markdown",
      "source": [
        "5) How would you catch and handle division by zero error in Python?\n",
        "\n",
        "Ans:\n"
      ],
      "metadata": {
        "id": "TEgWwaAfQxbs"
      }
    },
    {
      "cell_type": "code",
      "source": [
        "try:\n",
        "  b=5/0\n",
        "\n",
        "except ZeroDivisionError as e:\n",
        "  print(\"This will give zero error so the answer is \" ,5/1)"
      ],
      "metadata": {
        "colab": {
          "base_uri": "https://localhost:8080/"
        },
        "id": "1EftUut5FxmZ",
        "outputId": "da19ef40-c753-48bc-c259-4631f20b3055"
      },
      "execution_count": null,
      "outputs": [
        {
          "output_type": "stream",
          "name": "stdout",
          "text": [
            "This will give zero error so the answer is  5.0\n"
          ]
        }
      ]
    },
    {
      "cell_type": "markdown",
      "source": [
        "6)Write a Python program that logs an error message to a log file when a division by zero exception occurs?\n",
        "Ans:"
      ],
      "metadata": {
        "id": "lkez0lnQSFKq"
      }
    },
    {
      "cell_type": "code",
      "source": [
        "import logging\n",
        "logging.basicConfig(filename=\"error.log\",level=logging.DEBUG,format='%(asctime)s % (message)s')\n",
        "\n",
        "try:\n",
        "  b=5/0\n",
        "\n",
        "except ZeroDivisionError as e:\n",
        "  logging.info(\"Zero exception error occured\")\n"
      ],
      "metadata": {
        "id": "BluXx1wlTQL2"
      },
      "execution_count": null,
      "outputs": []
    },
    {
      "cell_type": "markdown",
      "source": [
        "7)How do you log information at different levels (INFO, ERROR, WARNING) in Python using the logging module?\n",
        "\n",
        "Ans:"
      ],
      "metadata": {
        "id": "m8uzUE-aVWkb"
      }
    },
    {
      "cell_type": "code",
      "source": [
        "import logging\n",
        "logging.basicConfig(filename = \"test_new.log\", level = logging.DEBUG, format = '%(asctime)s %(message)s')\n",
        "logging.debug(\"This msg is for debugging\")\n",
        "logging.info(\"This is my info msg\")\n",
        "logging.warning(\"This is my warning msg\")\n",
        "logging.shutdown()"
      ],
      "metadata": {
        "colab": {
          "base_uri": "https://localhost:8080/"
        },
        "id": "32EbsA_Qdq4x",
        "outputId": "c5a26aa1-f80f-4839-bfc8-7f7b5e533410"
      },
      "execution_count": null,
      "outputs": [
        {
          "output_type": "stream",
          "name": "stderr",
          "text": [
            "WARNING:root:This is my warning msg\n"
          ]
        }
      ]
    },
    {
      "cell_type": "markdown",
      "source": [
        "8)Write a program to handle a file opening error using exception handling?\n",
        "\n",
        "Ans:"
      ],
      "metadata": {
        "id": "7ryeL5FTVeL5"
      }
    },
    {
      "cell_type": "code",
      "source": [
        "try:\n",
        "  with open(\"file.txt\",\"r\") as file:\n",
        "    if os.path.isfile(\"file.txt\"):\n",
        "      print(file.read())\n",
        "\n",
        "except FileNotFoundError:\n",
        "  print(\"File not found\")"
      ],
      "metadata": {
        "id": "Gwd2Azvmefvs"
      },
      "execution_count": null,
      "outputs": []
    },
    {
      "cell_type": "markdown",
      "source": [
        "9)How can you read a file line by line and store its content in a list in Python?\n",
        "\n",
        "Ans:\n"
      ],
      "metadata": {
        "id": "tXKv6qizVlcH"
      }
    },
    {
      "cell_type": "code",
      "source": [
        "l=[]\n",
        "\n",
        "with open (\"file.txt\",'r') as file:\n",
        "\n",
        "  for i in file:\n",
        "    l.append(i)\n",
        "print(l)"
      ],
      "metadata": {
        "colab": {
          "base_uri": "https://localhost:8080/"
        },
        "id": "grq4Q_f-GNbK",
        "outputId": "d6a1478e-310f-426d-c37f-e0c8d52dd390"
      },
      "execution_count": null,
      "outputs": [
        {
          "output_type": "stream",
          "name": "stdout",
          "text": [
            "['Hi Hello']\n"
          ]
        }
      ]
    },
    {
      "cell_type": "markdown",
      "source": [
        "10)How can you append data to an existing file in Python?\n",
        "\n",
        "Ans:"
      ],
      "metadata": {
        "id": "CTir1yMHW-Iz"
      }
    },
    {
      "cell_type": "code",
      "source": [
        "d=[\"Hi hello\",\"how are you?\"]\n",
        "\n",
        "with open (\"file.txt\",'w') as file:\n",
        "  for i in d:\n",
        "    file.write(i+\"\\n\")"
      ],
      "metadata": {
        "id": "OUxtJiS0D0EL"
      },
      "execution_count": null,
      "outputs": []
    },
    {
      "cell_type": "markdown",
      "source": [
        "11)Write a Python program that uses a try-except block to handle an error when attempting to access a\n",
        "dictionary key that doesn't exist?\n",
        "\n",
        "Ans:"
      ],
      "metadata": {
        "id": "4draeApyDuAW"
      }
    },
    {
      "cell_type": "code",
      "source": [
        "dic={1:\"vamsi\",2:\"Harshak\",3:\"Gelli\"}\n",
        "try:\n",
        "  print(dic[4])\n",
        "except KeyError:\n",
        "  print(\"This key is not there\")"
      ],
      "metadata": {
        "colab": {
          "base_uri": "https://localhost:8080/"
        },
        "id": "BkqQ6O9Lf1H7",
        "outputId": "cd10c900-0090-4cdd-cb1c-2f1ce7065282"
      },
      "execution_count": null,
      "outputs": [
        {
          "output_type": "stream",
          "name": "stdout",
          "text": [
            "This key is not there\n"
          ]
        }
      ]
    },
    {
      "cell_type": "markdown",
      "source": [
        "12)Write a program that demonstrates using multiple except blocks to handle different types of exceptions?"
      ],
      "metadata": {
        "id": "M8p51NteGjRr"
      }
    },
    {
      "cell_type": "code",
      "source": [
        "try:\n",
        "  b=5/0\n",
        "\n",
        "except ZeroDivisionError as e:\n",
        "  print(\"This will give zero error so the answer is \" ,5/1)"
      ],
      "metadata": {
        "id": "YPoyXD5AGvRz"
      },
      "execution_count": null,
      "outputs": []
    },
    {
      "cell_type": "markdown",
      "source": [
        "13)How would you check if a file exists before attempting to read it in Python?\n",
        "\n",
        "Ans: we can use os.path.isfile(\"file.txt\") where this command return true when the file is present and returns false when the file is not present.  "
      ],
      "metadata": {
        "id": "PPxccbHAIv9-"
      }
    },
    {
      "cell_type": "code",
      "source": [
        "import os\n",
        "os.path.isfile(\"file.txt\")"
      ],
      "metadata": {
        "colab": {
          "base_uri": "https://localhost:8080/"
        },
        "id": "fMOfUOQSJPdn",
        "outputId": "34572d8f-1802-42dd-b47c-5dc4a4b20055"
      },
      "execution_count": null,
      "outputs": [
        {
          "output_type": "execute_result",
          "data": {
            "text/plain": [
              "True"
            ]
          },
          "metadata": {},
          "execution_count": 8
        }
      ]
    },
    {
      "cell_type": "markdown",
      "source": [
        "14) Write a program that uses the logging module to log both informational and error messages?\n",
        "\n",
        "Ans:"
      ],
      "metadata": {
        "id": "85nBwaqoJFRi"
      }
    },
    {
      "cell_type": "code",
      "source": [
        "import logging\n",
        "logging.basicConfig(filename='my_app.log', level=logging.INFO,\n",
        "                    format='%(asctime)s - %(levelname)s - %(message)s')\n",
        "try:\n",
        "  x=5\n",
        "  y=0\n",
        "  print(x/y)\n",
        "  logging.info(\"Division is successful\")\n",
        "except ZeroDivisionError:\n",
        "  logging.error(\"zeroDivision error\")"
      ],
      "metadata": {
        "colab": {
          "base_uri": "https://localhost:8080/"
        },
        "id": "hz05Jjf6r0t7",
        "outputId": "9e4cacb6-bb9b-41ac-9d9c-10476fb435e5"
      },
      "execution_count": null,
      "outputs": [
        {
          "output_type": "stream",
          "name": "stderr",
          "text": [
            "ERROR:root:Division by zero\n"
          ]
        }
      ]
    },
    {
      "cell_type": "markdown",
      "source": [
        "15)Write a Python program that prints the content of a file and handles the case when the file is empty?"
      ],
      "metadata": {
        "id": "-N8cfO0WJ6BV"
      }
    },
    {
      "cell_type": "code",
      "source": [
        "with open(\"file.txt\",\"r\") as file:\n",
        "  data=file.readlines()\n",
        "  if len(data)==0:\n",
        "    print(\"File is empty\")\n",
        "  else:\n",
        "      print(i)\n"
      ],
      "metadata": {
        "colab": {
          "base_uri": "https://localhost:8080/"
        },
        "id": "MVMoeymtKNdX",
        "outputId": "460f33a0-8949-4930-938f-4d8be05b898f"
      },
      "execution_count": null,
      "outputs": [
        {
          "output_type": "stream",
          "name": "stdout",
          "text": [
            "how are you?\n"
          ]
        }
      ]
    },
    {
      "cell_type": "markdown",
      "source": [
        "16)Demonstrate how to use memory profiling to check the memory usage of a small program?\n",
        "Ans:"
      ],
      "metadata": {
        "id": "l16v3maRCfOm"
      }
    },
    {
      "cell_type": "code",
      "source": [
        "pip install memory_profiler"
      ],
      "metadata": {
        "colab": {
          "base_uri": "https://localhost:8080/"
        },
        "id": "V6YIvsjK5QM9",
        "outputId": "06209b6e-872f-43c5-c316-6de888902dd9"
      },
      "execution_count": null,
      "outputs": [
        {
          "output_type": "stream",
          "name": "stdout",
          "text": [
            "Collecting memory_profiler\n",
            "  Downloading memory_profiler-0.61.0-py3-none-any.whl.metadata (20 kB)\n",
            "Requirement already satisfied: psutil in /usr/local/lib/python3.10/dist-packages (from memory_profiler) (5.9.5)\n",
            "Downloading memory_profiler-0.61.0-py3-none-any.whl (31 kB)\n",
            "Installing collected packages: memory_profiler\n",
            "Successfully installed memory_profiler-0.61.0\n"
          ]
        }
      ]
    },
    {
      "cell_type": "code",
      "source": [
        "from memory_profiler import profile\n",
        "\n",
        "@profile\n",
        "def memoryfunction():\n",
        "  data = []\n",
        "  for i in range(1000):\n",
        "    data.append(i * i)\n",
        "  return data\n",
        "\n",
        "if __name__ == \"__main__\":\n",
        "  memoryfunction()"
      ],
      "metadata": {
        "colab": {
          "base_uri": "https://localhost:8080/"
        },
        "id": "HSQWRPXO33jZ",
        "outputId": "040f94cd-b9b8-45ab-cc96-e87f934703ea"
      },
      "execution_count": null,
      "outputs": [
        {
          "output_type": "stream",
          "name": "stdout",
          "text": [
            "ERROR: Could not find file <ipython-input-41-427f6329176e>\n",
            "NOTE: %mprun can only be used on functions defined in physical files, and not in the IPython environment.\n"
          ]
        }
      ]
    },
    {
      "cell_type": "markdown",
      "source": [
        "17)Write a Python program to create and write a list of numbers to a file, one number per line?\n",
        "\n",
        "Ans:"
      ],
      "metadata": {
        "id": "jCB8CwiiF1sM"
      }
    },
    {
      "cell_type": "code",
      "source": [
        "numbers=[1,2,3,4,5,6,7,8]\n",
        "with open (\"file.txt\",\"w\") as file:\n",
        "  for i in numbers:\n",
        "    file.write(str(i)+\"\\n\")\n",
        "\n"
      ],
      "metadata": {
        "id": "zauR1k-k-gB_"
      },
      "execution_count": null,
      "outputs": []
    },
    {
      "cell_type": "markdown",
      "source": [
        "18)How would you implement a basic logging setup that logs to a file with rotation after 1MB?"
      ],
      "metadata": {
        "id": "H6YUzZVhIVp7"
      }
    },
    {
      "cell_type": "code",
      "source": [
        "import logging\n",
        "from logging.handlers import RotatingFileHandler\n",
        "logger = logging.getLogger(__name__)\n",
        "logger.setLevel(logging.INFO)\n",
        "handler = RotatingFileHandler('my_app.log', maxBytes=1024 * 1024)\n",
        "formatter = logging.Formatter('%(asctime)s - %(levelname)s - %(message)s')\n",
        "handler.setFormatter(formatter)\n",
        "logger.info('Hello, World!')\n"
      ],
      "metadata": {
        "colab": {
          "base_uri": "https://localhost:8080/"
        },
        "id": "I7-JufnLBxG9",
        "outputId": "9ce374d8-9938-40cf-b393-71032740c606"
      },
      "execution_count": null,
      "outputs": [
        {
          "output_type": "stream",
          "name": "stderr",
          "text": [
            "INFO:__main__:Hello, World!\n"
          ]
        }
      ]
    },
    {
      "cell_type": "markdown",
      "source": [
        "19)Write a program that handles both IndexError and KeyError using a try-except block?\n",
        "\n",
        "Ans:"
      ],
      "metadata": {
        "id": "HIDyMPgUIhX8"
      }
    },
    {
      "cell_type": "code",
      "source": [
        "l=[\"Hi\",\"Vamsi\",\"how\",\"are\",\"you\"]\n",
        "d={1:\"vamsi\",2:\"Harshak\",3:\"Gelli\"}\n",
        "try:\n",
        "  print(l[5])\n",
        "  print(d[4])\n",
        "except IndexError:\n",
        "  print(\"index error\")\n",
        "except KeyError:\n",
        "  print(\"key error\")"
      ],
      "metadata": {
        "id": "Pd5GVXd1DKRZ"
      },
      "execution_count": null,
      "outputs": []
    },
    {
      "cell_type": "markdown",
      "source": [
        "20) How would you open a file and read its contents using a context manager in Python?\n",
        "\n",
        "Ans:"
      ],
      "metadata": {
        "id": "N_t2F8RZIseU"
      }
    },
    {
      "cell_type": "code",
      "source": [
        "try:\n",
        "  with open(\"file.txt\",'r') as file:\n",
        "    print(file.read())\n",
        "except Exception as e:\n",
        "  print(e)"
      ],
      "metadata": {
        "colab": {
          "base_uri": "https://localhost:8080/"
        },
        "id": "Q_RdFX9CHEbl",
        "outputId": "455a5305-97d4-4004-ee1f-b078a3d38047"
      },
      "execution_count": null,
      "outputs": [
        {
          "output_type": "stream",
          "name": "stdout",
          "text": [
            "1\n",
            "2\n",
            "3\n",
            "4\n",
            "5\n",
            "6\n",
            "7\n",
            "8\n",
            "\n"
          ]
        }
      ]
    },
    {
      "cell_type": "markdown",
      "source": [
        "21)Write a Python program that reads a file and prints the number of occurrences of a specific word?"
      ],
      "metadata": {
        "id": "avrWqV-oKd15"
      }
    },
    {
      "cell_type": "code",
      "source": [
        "words={}\n",
        "with open(\"file.txt\",'r') as file:\n",
        "  for i in file:\n",
        "    for j in i.split():\n",
        "      if j in words:\n",
        "        words[j]+=1\n",
        "      else:\n",
        "        words[j]=1\n",
        "\n",
        "print(words)"
      ],
      "metadata": {
        "id": "-rLLG8NYMPMF"
      },
      "execution_count": null,
      "outputs": []
    },
    {
      "cell_type": "markdown",
      "source": [
        "22)How can you check if a file is empty before attempting to read its contents?\n",
        "\n",
        "Ans:"
      ],
      "metadata": {
        "id": "Z8fQdLQUSbRl"
      }
    },
    {
      "cell_type": "code",
      "source": [
        "with open(\"file.txt\",\"r\") as file:\n",
        "  data=file.readlines()\n",
        "  if len(data)==0:\n",
        "    print(\"File is empty\")\n",
        "  else:\n",
        "      print(i)"
      ],
      "metadata": {
        "id": "2bZPM33LSnRv"
      },
      "execution_count": null,
      "outputs": []
    },
    {
      "cell_type": "markdown",
      "source": [
        "23)Write a Python program that writes to a log file when an error occurs during file handling?\n",
        "\n",
        "Ans:"
      ],
      "metadata": {
        "id": "gpeq0qQ4SpP0"
      }
    },
    {
      "cell_type": "code",
      "source": [
        "import logging\n",
        "logging.basicConfig(filename=\"error.log\",level=logging.DEBUG,format='%(asctime)s % (message)s')\n",
        "try:\n",
        "  with open(\"file.txt\",\"r\") as file:\n",
        "    if os.path.isfile(\"file.txt\"):\n",
        "      print(file.read())\n",
        "\n",
        "except FileNotFoundError:\n",
        "  logging.error(\"File not found\")"
      ],
      "metadata": {
        "colab": {
          "base_uri": "https://localhost:8080/"
        },
        "id": "Mg4sQiEJES-s",
        "outputId": "11c0959d-7c23-4277-f445-c9c8631aa703"
      },
      "execution_count": null,
      "outputs": [
        {
          "output_type": "stream",
          "name": "stderr",
          "text": [
            "ERROR:root:File not found\n"
          ]
        }
      ]
    },
    {
      "cell_type": "code",
      "source": [],
      "metadata": {
        "id": "FGM6aOPwE1If"
      },
      "execution_count": null,
      "outputs": []
    }
  ]
}