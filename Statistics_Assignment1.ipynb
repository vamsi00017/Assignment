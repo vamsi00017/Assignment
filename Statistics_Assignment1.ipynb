{
  "nbformat": 4,
  "nbformat_minor": 0,
  "metadata": {
    "colab": {
      "provenance": []
    },
    "kernelspec": {
      "name": "python3",
      "display_name": "Python 3"
    },
    "language_info": {
      "name": "python"
    }
  },
  "cells": [
    {
      "cell_type": "markdown",
      "source": [
        "# **Statistics_Assignment1**"
      ],
      "metadata": {
        "id": "WNBqJkcGiEpq"
      }
    },
    {
      "cell_type": "markdown",
      "source": [
        "1)Explain the different types of data (qualitative and quantitative) and provide examples of each. Discuss\n",
        "nominal, ordinal, interval, and ratio scales.\n",
        "\n",
        "Ans: Quantitative means when the data is measurable and numerical then the data will comes under this. It is again divided into two types.\n",
        " 1)discrete when the data is finite  whole number like how many childrens etc..\n",
        " 2)continious when the data is in a range which is not specific but in a range like salary,speed,height etc.\n",
        " Qualitative means when the data is categorical and types are\n",
        " 1)Nominal scale data: it is used where the data has no order . like gender,colour,location.\n",
        " 2)ordinal scale data: it is used when the order has meaning and difference between them is not measurable.like Rank, degree.\n"
      ],
      "metadata": {
        "id": "ucQlByqbINP-"
      }
    },
    {
      "cell_type": "markdown",
      "source": [
        "2)What are the measures of central tendency, and when should you use each? Discuss the mean, median,\n",
        "and mode with examples and situations where each is appropriate.\n",
        "\n",
        "Ans: Central tendency are the single value which describes the central position in the data.\n",
        "1) mean is used to find the average of the data by sum of elements to the number of elements. it is not suitable to use the when there are outliers.\n",
        "2) median is used when there is outliers and to find the median of the data first we need to arrange in ascending order then we need to select the middle value of the elements.\n",
        "3) mode is also used when the outliers are there. by using mode we can select the most repeating element."
      ],
      "metadata": {
        "id": "Tca8A5GgIVKO"
      }
    },
    {
      "cell_type": "markdown",
      "source": [
        "3) Explain the concept of dispersion. How do variance and standard deviation measure the spread of data?\n",
        "\n",
        "Ans: Dispersion is used to know how the data is spread.\n",
        "Variance is the average square of the difference of the mean and the each data point. higher the variance higher the spread.\n",
        "Standard deviation is the square root of the variance, the higher the std the higher the spread."
      ],
      "metadata": {
        "id": "KEn1IqWbxmRw"
      }
    },
    {
      "cell_type": "markdown",
      "source": [
        "4)What is a box plot, and what can it tell you about the distribution of data?\n",
        "\n",
        "Ans: box plot is used to give the graphical representation of the spread of the data. it helps to find the median of the data and the skewness, spread and also used to find the outliers of the data."
      ],
      "metadata": {
        "id": "U4sfWuTEz2Tr"
      }
    },
    {
      "cell_type": "markdown",
      "source": [
        "5)Discuss the role of random sampling in making inferences about populations.\n",
        "\n",
        "Ans:In Random sampling all the data will be selected without any bias and selects the data randomly. This randomness may be the disadvantage when it selects all the data in the one region and leaving the other region without selecting."
      ],
      "metadata": {
        "id": "PsPET0tt1pbe"
      }
    },
    {
      "cell_type": "markdown",
      "source": [
        "6)Explain the concept of skewness and its types. How does skewness affect the interpretation of data?\n",
        "\n",
        "Ans:Skewness is the degree of measuring the deviation of the data from being Symmetricity. Types are No skewness where the data points are symmetric no deviation, Positive Skewness means when most of the data points are inclined to the left side and the tail is on the right side Negative Skewness means when the most of the data is inclined to the right side and the tail is on the left side."
      ],
      "metadata": {
        "id": "Gee4Dxhv4nA7"
      }
    },
    {
      "cell_type": "markdown",
      "source": [
        "7) What is the interquartile range (IQR), and how is it used to detect outliers?\n",
        "\n",
        "Ans: IQR is mainly used to detect the outliers, it is the difference betweent the q3 and q1.\n",
        "we can find the outliers by using the formula of lower fence is q1-1.5*iqr and upper fence which is q3+1.5*iqr"
      ],
      "metadata": {
        "id": "KUFMoY9X62VV"
      }
    },
    {
      "cell_type": "markdown",
      "source": [
        "8) Discuss the conditions under which the binomial distribution is used.\n",
        "\n",
        "Ans:The binomial distribution is used when each trial has only two possible outcomes and the probability of success remains constant across all trials."
      ],
      "metadata": {
        "id": "TFCA2CZG_X12"
      }
    },
    {
      "cell_type": "markdown",
      "source": [
        "9)Explain the properties of the normal distribution and the empirical rule (68-95-99.7 rule).\n",
        "\n",
        "Ans:Properties of the normal distribution is that the skewness should be always to 0,and the it is symmetrically at mean,where the mean,mode,medium all are same.\n",
        "The empirical rule explains as 68% of the data in the Normal distribution is in the 1st standard deviation and 95% of the data lies in the 2nd deviation and the 99.7 of the data lies in the 3rd standard devation."
      ],
      "metadata": {
        "id": "-jhFoyn8AqMJ"
      }
    },
    {
      "cell_type": "markdown",
      "source": [
        "10) Provide a real-life example of a Poisson process and calculate the probability for a specific event.\n",
        "\n",
        "Ans:it is mainly describes about the number of events in a particular time like no of calls for the call center, no of visits for the shopping mall etc..\n",
        "it can be caluculated by using (e-λ λx )/x!."
      ],
      "metadata": {
        "id": "zM7kaM8FVO0Y"
      }
    },
    {
      "cell_type": "markdown",
      "source": [
        "11) Explain what a random variable is and differentiate between discrete and continuous random variables.\n",
        "\n",
        "Ans:in discrete random variables the outcomes are discrete and have the same probability. where as in the continuous the outcomes are in infinite in a defined in a range."
      ],
      "metadata": {
        "id": "HGxa81UDX47j"
      }
    },
    {
      "cell_type": "markdown",
      "source": [
        "12) Provide an example dataset, calculate both covariance and correlation, and interpret the results.\n",
        "\n",
        "Ans:"
      ],
      "metadata": {
        "id": "SrtVJ0E6Y6b1"
      }
    },
    {
      "cell_type": "code",
      "source": [
        "import numpy as np\n",
        "\n",
        "sales = np.array([20, 30, 15, 40, 25])\n",
        "temp= np.array([25, 30, 20, 35, 28])\n",
        "covariance = np.cov(sales, temp)[0, 1]\n",
        "correlation = np.corrcoef(sales, temp)[0, 1]\n",
        "print(\"Covariance:\", covariance)\n",
        "print(\"Correlation:\", correlation)"
      ],
      "metadata": {
        "colab": {
          "base_uri": "https://localhost:8080/"
        },
        "id": "4vivTJk3ae4L",
        "outputId": "20f3c4ea-41e5-4a3c-ceea-f9925f9a1da5"
      },
      "execution_count": null,
      "outputs": [
        {
          "output_type": "stream",
          "name": "stdout",
          "text": [
            "Covariance: 52.99999999999999\n",
            "Correlation: 0.9849922976550924\n"
          ]
        }
      ]
    },
    {
      "cell_type": "code",
      "source": [],
      "metadata": {
        "id": "fvXzIWgbajVY"
      },
      "execution_count": null,
      "outputs": []
    }
  ]
}