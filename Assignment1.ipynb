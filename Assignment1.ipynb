{
  "nbformat": 4,
  "nbformat_minor": 0,
  "metadata": {
    "colab": {
      "provenance": []
    },
    "kernelspec": {
      "name": "python3",
      "display_name": "Python 3"
    },
    "language_info": {
      "name": "python"
    }
  },
  "cells": [
    {
      "cell_type": "markdown",
      "source": [
        "1. Explain the key features of Python that make it a popular choice for programming.\n",
        "\n"
      ],
      "metadata": {
        "id": "V3UjLi5rKPZG"
      }
    },
    {
      "cell_type": "markdown",
      "source": [
        "Python is popular because it is open source and also had vast libraries suitable for ml and datascience and simplicity to write and understand the code.\n",
        "\n"
      ],
      "metadata": {
        "id": "IfKtH1WSK8nL"
      }
    },
    {
      "cell_type": "markdown",
      "source": [
        "2. Describe the role of predefined keywords in Python and provide examples of how they are used in a program.\n",
        "\n"
      ],
      "metadata": {
        "id": "j293I0MmKPxX"
      }
    },
    {
      "cell_type": "markdown",
      "source": [
        "Python keywords are predefined and reserved words which are already assigned to a particular task like if ,else for etc where we cant use these words as the variable in the code.\n",
        "\n"
      ],
      "metadata": {
        "id": "3bvluqQNLPB5"
      }
    },
    {
      "cell_type": "code",
      "source": [
        "#Here for if break else are the keywords\n",
        "\n",
        "for i in range(1,10):\n",
        " if i==5:\n",
        "  break\n",
        " else:\n",
        "  print(i)\n",
        "\n"
      ],
      "metadata": {
        "colab": {
          "base_uri": "https://localhost:8080/"
        },
        "id": "1hRddJ7zLhQs",
        "outputId": "a52f3970-14f6-449f-f825-277e38910bac"
      },
      "execution_count": 15,
      "outputs": [
        {
          "output_type": "stream",
          "name": "stdout",
          "text": [
            "1\n",
            "2\n",
            "3\n",
            "4\n"
          ]
        }
      ]
    },
    {
      "cell_type": "markdown",
      "source": [
        "3. Compare and contrast mutable and immutable objects in Python with examples.\n",
        "\n"
      ],
      "metadata": {
        "id": "OJ-7YGJ0KP0i"
      }
    },
    {
      "cell_type": "markdown",
      "source": [
        "Mutable are used to store the data which can be edited in the future like grocery list , to do list etc where as the immutable is used where the data should not be changed at any cost like bank account number employee id etc...\n",
        "\n"
      ],
      "metadata": {
        "id": "-2ZvpRIwL0tE"
      }
    },
    {
      "cell_type": "code",
      "source": [
        "#Where we can change the data in the list\n",
        "List=[8,\"vamsi\",83]\n",
        "# we can't change the data in the tuple\n",
        "tup=(\"Test\",\"Pw\",\"Bank account\")\n",
        "\n",
        "\n",
        "\n"
      ],
      "metadata": {
        "id": "_5Nv5HMUL12N"
      },
      "execution_count": 16,
      "outputs": []
    },
    {
      "cell_type": "markdown",
      "source": [
        "4. Discuss the different types of operators in Python and provide examples of how they are used.\n",
        "\n"
      ],
      "metadata": {
        "id": "TazmctrPKP39"
      }
    },
    {
      "cell_type": "markdown",
      "source": [
        "operator are like assignment is used for comparision , bitwise is used to perform bit operations like and or xor , airthmetical includes addition division multiplication , logical includes AND OR NOT ... shifiting include the right or left shift the bits in the value are the types of operators\n",
        "\n"
      ],
      "metadata": {
        "id": "fzGaezQuMZ2-"
      }
    },
    {
      "cell_type": "code",
      "source": [
        "#Assignment\n",
        "i=5\n",
        "i=i+2\n",
        "#Comparision\n",
        "i<=5\n",
        "i==7\n",
        "#Bitwise\n",
        "5 & 7\n",
        "89 | 73\n",
        "#Airthmetical\n",
        "i+5\n",
        "i/4\n",
        "#Logical\n",
        "a,b=5,3\n",
        "if (a<5) and (b>=5):\n",
        "  print (\"perfect\")\n",
        "\n"
      ],
      "metadata": {
        "id": "y6Nx6ihcMaqz"
      },
      "execution_count": 17,
      "outputs": []
    },
    {
      "cell_type": "markdown",
      "source": [
        "5. Explain the concept of type casting in Python with examples.\n",
        "\n"
      ],
      "metadata": {
        "id": "0xSIxAdwKP7C"
      }
    },
    {
      "cell_type": "markdown",
      "source": [
        "Type casting is of two types implicit explicit where implicit is directly converted by the python during assigning it will understand it is int or float or chat where as the explicit type we are forcefully changing the datatypes like 2.0 can be converted to 20 integer by using int() .\n",
        "\n"
      ],
      "metadata": {
        "id": "tPGEb0zxMvWY"
      }
    },
    {
      "cell_type": "code",
      "source": [
        "a=5.0 #implicit converstion\n",
        "b= input(\"enter a number\")\n",
        "num=int(b) #Explicit conversion\n"
      ],
      "metadata": {
        "id": "BXrOfVdSM0hh"
      },
      "execution_count": null,
      "outputs": []
    },
    {
      "cell_type": "markdown",
      "source": [
        "6. How do conditional statements work in Python? Illustrate with examples.\n",
        "\n"
      ],
      "metadata": {
        "id": "hu3x13WtKP-Y"
      }
    },
    {
      "cell_type": "markdown",
      "source": [
        "it is the code which allows to go to the block of the code only when the given condition is true like 5==5 then print 5 if it is false then the block of code will not exceute .\n",
        "\n"
      ],
      "metadata": {
        "id": "iTR7KvW7M9t1"
      }
    },
    {
      "cell_type": "code",
      "source": [
        "a,b=8,10\n",
        "if b>a :\n",
        " print(\"greater\")\n"
      ],
      "metadata": {
        "id": "adKAHOOQNBhQ"
      },
      "execution_count": null,
      "outputs": []
    },
    {
      "cell_type": "markdown",
      "source": [
        "7. Describe the different types of loops in Python and their use cases with examples.\n",
        "\n"
      ],
      "metadata": {
        "id": "o0ZMod72KQ2p"
      }
    },
    {
      "cell_type": "markdown",
      "source": [
        "For loop is used to iterate the sequence till the given where as the while loop iterates till the condition of the loop satisfies .\n",
        "\n"
      ],
      "metadata": {
        "id": "bRp7BFKRNG4c"
      }
    },
    {
      "cell_type": "code",
      "source": [
        "#for loop\n",
        "for i in range (1,10):\n",
        " print(i)\n",
        "#while\n",
        "i=1\n",
        "while (i<10):\n",
        " print(i)\n",
        " i=i+1"
      ],
      "metadata": {
        "id": "xbJmGxyMNLiQ"
      },
      "execution_count": null,
      "outputs": []
    }
  ]
}