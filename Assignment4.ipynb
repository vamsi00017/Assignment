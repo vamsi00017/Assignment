{
  "nbformat": 4,
  "nbformat_minor": 0,
  "metadata": {
    "colab": {
      "provenance": []
    },
    "kernelspec": {
      "name": "python3",
      "display_name": "Python 3"
    },
    "language_info": {
      "name": "python"
    }
  },
  "cells": [
    {
      "cell_type": "markdown",
      "source": [
        "1. What are the five key concepts of Object-Oriented Programming (OOP)?\n",
        "\n",
        "Ans): Oops consists of mainly the below key concepts\n",
        "      1)Inheritance is used to implement the charactersicts of the parents where it can access the parent data and child data based it we had types of inheritance also like hierarchy, multiple inheritance.\n",
        "      2)Abstraction contains the methods just declared which can be only work when abstract is subclass to implement the requried class. it cannot make objects.\n",
        "      3)Polymorphism means many forms it mainly consists of method overriding and method overloading.\n",
        "      4)Encapsulation is the process of which is used to hide the unwanted data and it had the access modifiers which are used based on the demand."
      ],
      "metadata": {
        "id": "YavwuOxt72ST"
      }
    },
    {
      "cell_type": "code",
      "source": [
        "'''2. Write a Python class for a `Car` with attributes for `make`, `model`, and `year`. Include a method to display\n",
        "the car's information.'''\n",
        "class Car:\n",
        "    def __init__(self,make,model,year):\n",
        "      self.make=make\n",
        "      self.model=model\n",
        "      self.year=year\n",
        "    def display(self):\n",
        "      print(self.make)\n",
        "      print(self.model)\n",
        "      print(self.year)\n",
        "c1=Car(\"Tata\",\"creta\",2019)\n",
        "c1.display()\n"
      ],
      "metadata": {
        "colab": {
          "base_uri": "https://localhost:8080/"
        },
        "id": "0VqgoGCkGjGr",
        "outputId": "fb8d9b55-72f9-4621-d43c-2a7d2b3ddd00"
      },
      "execution_count": null,
      "outputs": [
        {
          "output_type": "stream",
          "name": "stdout",
          "text": [
            "Tata\n",
            "creta\n",
            "2019\n"
          ]
        }
      ]
    },
    {
      "cell_type": "code",
      "source": [
        "'''3. Explain the difference between instance methods and class methods. Provide an example of each.'''\n",
        "\n",
        "#instance method is used to create a object instance for every time we call\n",
        "class Car:\n",
        "   def __init__(self,make,model,year):\n",
        "      self.make=make\n",
        "      self.model=model\n",
        "      self.year=year\n",
        "   def display(self):\n",
        "      print(self.make)\n",
        "      print(self.model)\n",
        "      print(self.year)\n",
        "c1=Car(\"Tata\",\"creta\",2019)\n",
        "c1.display()\n",
        "c2=Car(\"Maruti\",\"Swift\",2020)\n",
        "c2.display()\n",
        "\n",
        "#class method will help to create no object instance which can be directly called by using class\n",
        "class course:\n",
        "  @classmethod\n",
        "  def display(course,name):\n",
        "    print(name)\n",
        "\n",
        "course.display(\"Ai\")\n",
        "\n"
      ],
      "metadata": {
        "colab": {
          "base_uri": "https://localhost:8080/"
        },
        "id": "-aOf43VGK8ZO",
        "outputId": "6869b131-2fc6-4913-c5e1-41659bc41806"
      },
      "execution_count": null,
      "outputs": [
        {
          "output_type": "stream",
          "name": "stdout",
          "text": [
            "Tata\n",
            "creta\n",
            "2019\n",
            "Maruti\n",
            "Swift\n",
            "2020\n",
            "Ai\n"
          ]
        }
      ]
    },
    {
      "cell_type": "code",
      "source": [
        "'''4. How does Python implement method overloading? Give an example'''\n",
        "# in python mehtod is overloading is not directly supported we can use default arguments\n",
        "\n",
        "class student:\n",
        "  def details(self,name=\"\"):\n",
        "    print(\"studnet name is\",name)\n",
        "  def details(self,name=\"\",age=\"\"):\n",
        "    print(\"student name :\",name,age)\n",
        "s1=student()\n",
        "s1.details(\"Raj\",78)\n"
      ],
      "metadata": {
        "colab": {
          "base_uri": "https://localhost:8080/"
        },
        "id": "TW4a91M7LaTL",
        "outputId": "e6857a1a-4b96-459f-b9bd-b298632970c0"
      },
      "execution_count": null,
      "outputs": [
        {
          "output_type": "stream",
          "name": "stdout",
          "text": [
            "student name : Raj 78\n"
          ]
        }
      ]
    },
    {
      "cell_type": "markdown",
      "source": [
        "5. What are the three types of access modifiers in Python? How are they denoted?\n",
        "\n",
        "Ans) public is a default it can be accessed from anywhere\n",
        "     private is denoted with __ by using this the data can accessed only in the class itself\n",
        "     protected is denoted with _ by using this the data can accessed with in the class and subclass."
      ],
      "metadata": {
        "id": "sEDjMdq4Subv"
      }
    },
    {
      "cell_type": "code",
      "source": [
        "'''6. Describe the five types of inheritance in Python. Provide a simple example of multiple inheritance'''\n",
        "#single inheritance means when a class inherits only single parent class\n",
        "#multiple inheritance is when a class is inherits multiple parent class\n",
        "#multi level inheritance is when a class is inherits to the parent class where it is also having a parent class.\n",
        "#heirarchical inheritance is when a multiple classes inherits the same parent class\n",
        "#hybrid inheritance is a combination of multiple inheritance\n",
        "\n",
        "#code\n",
        "class mother:\n",
        "  def mother(self):\n",
        "    print(\"mother\")\n",
        "class father:\n",
        "  def father(self):\n",
        "    print(\"father\")\n",
        "class child(mother,father):\n",
        "  def child(self):\n",
        "    print(\"child\")\n",
        "c1=child()\n",
        "c1.child()\n",
        "c1.mother()\n",
        "c1.father()\n",
        "\n",
        "\n"
      ],
      "metadata": {
        "colab": {
          "base_uri": "https://localhost:8080/"
        },
        "id": "59l2oCmxPi8y",
        "outputId": "cb8221fc-9ee4-4ad3-950e-c9b1aef9c86a"
      },
      "execution_count": null,
      "outputs": [
        {
          "output_type": "stream",
          "name": "stdout",
          "text": [
            "child\n",
            "mother\n",
            "father\n"
          ]
        }
      ]
    },
    {
      "cell_type": "markdown",
      "source": [
        "7. What is the Method Resolution Order (MRO) in Python? How can you retrieve it programmatically?\n",
        "\n",
        "Ans) MRO is mainly used when we are facing daimond problem in multiple parents. MRO works by determine the order of the classes and gives that method when the multiple classes inheritance the same class."
      ],
      "metadata": {
        "id": "NlDfR2d-bxFh"
      }
    },
    {
      "cell_type": "markdown",
      "source": [],
      "metadata": {
        "id": "PstIjhWXb6GI"
      }
    },
    {
      "cell_type": "code",
      "source": [
        "'''8. Create an abstract base class `Shape` with an abstract method `area()`. Then create two subclasses\n",
        "`Circle` and `Rectangle` that implement the `area()` method.'''\n",
        "import abc\n",
        "class Shape:\n",
        "  @abc.abstractmethod\n",
        "  def area(self):\n",
        "    pass\n",
        "class Circle(Shape):\n",
        "  def area(self,r):\n",
        "    print(3.14*r*r)\n",
        "class Rectangle(Shape):\n",
        "  def area(self,l,b):\n",
        "    print(l*b)\n",
        "c=Circle()\n",
        "c.area(4)\n",
        "r=Rectangle()\n",
        "r.area(6,2)\n"
      ],
      "metadata": {
        "colab": {
          "base_uri": "https://localhost:8080/"
        },
        "id": "AX76MHL7bQzt",
        "outputId": "a9fd739a-4d83-4e5c-cca1-d403b3033b8c"
      },
      "execution_count": null,
      "outputs": [
        {
          "output_type": "stream",
          "name": "stdout",
          "text": [
            "50.24\n",
            "12\n"
          ]
        }
      ]
    },
    {
      "cell_type": "code",
      "source": [
        "'''9. Demonstrate polymorphism by creating a function that can work with different shape objects to calculate\n",
        "and print their areas.'''\n",
        "class Shape:\n",
        "  def area(self):\n",
        "    pass\n",
        "class Rectangle(Shape):\n",
        "  def area(self,l,b):\n",
        "    print( l*b)\n",
        "class Circle(Shape):\n",
        "  def area(self,r):\n",
        "    print( 3.14*r*r)\n",
        "r=Rectangle()\n",
        "r.area(12,5)\n",
        "c=Circle()\n",
        "c.area(10)\n",
        "\n"
      ],
      "metadata": {
        "colab": {
          "base_uri": "https://localhost:8080/"
        },
        "id": "5Hyc_KaP9nXh",
        "outputId": "41280dd4-4ec2-4e6b-a34f-53ec9db282ec"
      },
      "execution_count": null,
      "outputs": [
        {
          "output_type": "stream",
          "name": "stdout",
          "text": [
            "60\n",
            "314.0\n"
          ]
        }
      ]
    },
    {
      "cell_type": "code",
      "source": [
        "'''10. Implement encapsulation in a `BankAccount` class with private attributes for `balance` and\n",
        "`account_number`. Include methods for deposit, withdrawal, and balance inquiry.'''\n",
        "class BankAccount:\n",
        "  def __init__(self,accountN,balance):\n",
        "    self.accountN=accountN\n",
        "    self.__balance=balance\n",
        "  def deposit(self,amount):\n",
        "    self.__balance=self.__balance+amount\n",
        "    print(f'{amount} is sucessfully added to you account and total balance is {self.__balance}')\n",
        "  def withdrawal(self,amount):\n",
        "    self.__balance=self.__balance-amount\n",
        "  def balanceAmount(self):\n",
        "    print(self.__balance)\n",
        "amount=BankAccount(\"A4500\",9000)\n",
        "amount.balanceAmount()\n",
        "amount.deposit(7000)\n",
        "amount.withdrawal(1500)\n",
        "amount.balanceAmount()"
      ],
      "metadata": {
        "colab": {
          "base_uri": "https://localhost:8080/"
        },
        "id": "XFFmu_kNAN9N",
        "outputId": "3c926039-ad08-45d2-d7c8-0a3faf09f3ab"
      },
      "execution_count": null,
      "outputs": [
        {
          "output_type": "stream",
          "name": "stdout",
          "text": [
            "9000\n",
            "7000 is sucessfully added to you account and total balance is 16000\n",
            "14500\n"
          ]
        }
      ]
    },
    {
      "cell_type": "code",
      "source": [
        "'''11. Write a class that overrides the `__str__` and `__add__` magic methods. What will these methods allow\n",
        "you to do?'''\n",
        "class staff:\n",
        "  def __init__(self,name,age):\n",
        "    self.name=name\n",
        "    self.age=age\n",
        "  def __str__(self):\n",
        "    return self.name\n",
        "  def __add__(self,other):\n",
        "    return(self.age+other.age)\n",
        "s=staff(\"Raj\",80)\n",
        "s2=staff(\"Harish\",15)\n",
        "print(s)\n",
        "print(s+s2)"
      ],
      "metadata": {
        "colab": {
          "base_uri": "https://localhost:8080/"
        },
        "id": "pQmu9VLtIltY",
        "outputId": "11155d75-f441-48eb-ced5-27351ab96817"
      },
      "execution_count": null,
      "outputs": [
        {
          "output_type": "stream",
          "name": "stdout",
          "text": [
            "Raj\n",
            "95\n"
          ]
        }
      ]
    },
    {
      "cell_type": "code",
      "source": [
        "'''12. Create a decorator that measures and prints the execution time of a function.'''\n",
        "\n",
        "import time\n",
        "def t_decorator(func):\n",
        "  def t(a,b):\n",
        "    startTime= time.time()\n",
        "    result=func(a,b)\n",
        "    print(result)\n",
        "    endTime= time.time()\n",
        "    print(endTime-startTime)\n",
        "  return t\n",
        "@t_decorator\n",
        "def mul(a,b):\n",
        "  return(a*b)\n",
        "mul(5000,399)"
      ],
      "metadata": {
        "colab": {
          "base_uri": "https://localhost:8080/"
        },
        "id": "D5Sy9wOoJwby",
        "outputId": "5a5c0aac-13d4-42b3-ae4e-45335c5aee19"
      },
      "execution_count": null,
      "outputs": [
        {
          "output_type": "stream",
          "name": "stdout",
          "text": [
            "1995000\n",
            "0.0015726089477539062\n"
          ]
        }
      ]
    },
    {
      "cell_type": "markdown",
      "source": [
        "13. Explain the concept of the Diamond Problem in multiple inheritance. How does Python resolve it?\n",
        "\n",
        "Ans) This problem is generated when a class inheritance from a multiple parents where both of them are having same ancestor. when the class is calling then it is confused to give which parent class method. This can be resolved by MRO where it gives the first parent class out of all the parent classes in the child class."
      ],
      "metadata": {
        "id": "S0iZx_4rQuK8"
      }
    },
    {
      "cell_type": "code",
      "source": [
        "'''14. Write a class method that keeps track of the number of instances created from a class.'''\n",
        "class objCount:\n",
        "  count=0\n",
        "  def hello(self):\n",
        "    objCount.count=objCount.count+1\n",
        "    print(f'Hlooo {objCount.count}')\n",
        "c1=objCount()\n",
        "c1.hello()\n",
        "c2=objCount()\n",
        "c2.hello()\n",
        "c3=objCount()\n",
        "c3.hello()"
      ],
      "metadata": {
        "colab": {
          "base_uri": "https://localhost:8080/"
        },
        "id": "q3sY89zkK-mz",
        "outputId": "eec2bcb6-70f5-44ec-b9dd-8319477f523c"
      },
      "execution_count": null,
      "outputs": [
        {
          "output_type": "stream",
          "name": "stdout",
          "text": [
            "Hlooo 1\n",
            "Hlooo 2\n",
            "Hlooo 3\n"
          ]
        }
      ]
    },
    {
      "cell_type": "code",
      "source": [
        "'''15. Implement a static method in a class that checks if a given year is a leap year.'''\n",
        "class Lp:\n",
        "  @staticmethod\n",
        "  def leap(year):\n",
        "    if year%4==0:\n",
        "      if year%100==0:\n",
        "        if year%400==0:\n",
        "          print(f'{year} is leap year')\n",
        "        else:\n",
        "          print(f'{year} is not leap year')\n",
        "      else:\n",
        "        print(f'{year} is leap year')\n",
        "    else:\n",
        "      print(f'{year} is not leap year')\n",
        "\n",
        "l=Lp.leap(2400)\n"
      ],
      "metadata": {
        "colab": {
          "base_uri": "https://localhost:8080/"
        },
        "id": "i2VqoAvAShRD",
        "outputId": "5b031598-e3ef-406e-9847-1ce323c067a3"
      },
      "execution_count": null,
      "outputs": [
        {
          "output_type": "stream",
          "name": "stdout",
          "text": [
            "2400 is leap year\n"
          ]
        }
      ]
    },
    {
      "cell_type": "code",
      "source": [],
      "metadata": {
        "id": "oAqVCP-sTuiO"
      },
      "execution_count": null,
      "outputs": []
    }
  ]
}