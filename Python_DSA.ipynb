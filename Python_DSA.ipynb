{
  "nbformat": 4,
  "nbformat_minor": 0,
  "metadata": {
    "colab": {
      "provenance": []
    },
    "kernelspec": {
      "name": "python3",
      "display_name": "Python 3"
    },
    "language_info": {
      "name": "python"
    }
  },
  "cells": [
    {
      "cell_type": "markdown",
      "source": [
        "# DSA Codes"
      ],
      "metadata": {
        "id": "-hVbRhK_iYKA"
      }
    },
    {
      "cell_type": "markdown",
      "source": [
        "1)Write a code to reverse a string\u0012"
      ],
      "metadata": {
        "id": "W1hLVvIYib_r"
      }
    },
    {
      "cell_type": "code",
      "execution_count": null,
      "metadata": {
        "colab": {
          "base_uri": "https://localhost:8080/"
        },
        "id": "sk3eZCvAhFMN",
        "outputId": "1c8ef10d-80d7-4aa1-9a0d-f6ee0986c16b"
      },
      "outputs": [
        {
          "output_type": "stream",
          "name": "stdout",
          "text": [
            "olleh\n"
          ]
        }
      ],
      "source": [
        "def reverse (string):\n",
        "  return string[::-1]\n",
        "print(reverse(\"hello\"))"
      ]
    },
    {
      "cell_type": "markdown",
      "source": [
        "2)Write a code to count the number of vowels in a string\u0012"
      ],
      "metadata": {
        "id": "A1tsVdsFjGsb"
      }
    },
    {
      "cell_type": "code",
      "source": [
        "def vowel(string):\n",
        "  vowels='aeiouAEIOU'\n",
        "  return sum( 1 for char in string if char in vowels)\n",
        "print(vowel(\"hello\"))"
      ],
      "metadata": {
        "colab": {
          "base_uri": "https://localhost:8080/"
        },
        "id": "QyPRczMjjGLn",
        "outputId": "ee45d558-a761-4c2d-e1a0-dd0f7235cc10"
      },
      "execution_count": null,
      "outputs": [
        {
          "output_type": "stream",
          "name": "stdout",
          "text": [
            "2\n"
          ]
        }
      ]
    },
    {
      "cell_type": "markdown",
      "source": [
        "3) Write a code to check if a given string is a palindrome or not"
      ],
      "metadata": {
        "id": "Kw-n1fyljGI-"
      }
    },
    {
      "cell_type": "code",
      "source": [
        "def palindrome(string):\n",
        "  return string==string[::-1]\n",
        "print(palindrome(\"madam\"))"
      ],
      "metadata": {
        "colab": {
          "base_uri": "https://localhost:8080/"
        },
        "id": "acsBYvWjjGGI",
        "outputId": "ba21fc02-a0e2-48ea-a162-2ee1b403001b"
      },
      "execution_count": null,
      "outputs": [
        {
          "output_type": "stream",
          "name": "stdout",
          "text": [
            "True\n"
          ]
        }
      ]
    },
    {
      "cell_type": "markdown",
      "source": [
        "4)Write a code to check if two given strings are anagrams of each other"
      ],
      "metadata": {
        "id": "lI2kPCCOjGDR"
      }
    },
    {
      "cell_type": "code",
      "source": [
        "def anagrams(string1,string2):\n",
        "  return sorted(string1)==sorted(string2)\n",
        "print(anagrams(\"hello\",\"olleh\"))\n"
      ],
      "metadata": {
        "colab": {
          "base_uri": "https://localhost:8080/"
        },
        "id": "SYW9asQNjGAq",
        "outputId": "3484ef8d-75a2-4de3-d930-85449acb9fdf"
      },
      "execution_count": null,
      "outputs": [
        {
          "output_type": "stream",
          "name": "stdout",
          "text": [
            "True\n"
          ]
        }
      ]
    },
    {
      "cell_type": "markdown",
      "source": [
        "5)Write a code to find all occurrences of a given substring within another string"
      ],
      "metadata": {
        "id": "rMunVnDcjF9y"
      }
    },
    {
      "cell_type": "code",
      "source": [
        "def findSubstring(s, sub):\n",
        "  return [i for i in range(len(s)) if s.startswith(sub,i)]\n",
        "\n",
        "print(findSubstring(\"banana\", \"ana\"))"
      ],
      "metadata": {
        "colab": {
          "base_uri": "https://localhost:8080/"
        },
        "id": "tKzfcZD6jF66",
        "outputId": "21413da8-7d98-47af-80ee-7eb9b84a87bf"
      },
      "execution_count": null,
      "outputs": [
        {
          "output_type": "stream",
          "name": "stdout",
          "text": [
            "[1, 3]\n"
          ]
        }
      ]
    },
    {
      "cell_type": "markdown",
      "source": [
        "6)  Write a code to perform basic string compression using the counts of repeated characters"
      ],
      "metadata": {
        "id": "HgYEc4xsjF4U"
      }
    },
    {
      "cell_type": "code",
      "source": [
        "def compress_string(s):\n",
        "    compressed = []\n",
        "    count = 1\n",
        "    for i in range(1,len(s)):\n",
        "        if s[i] == s[i-1]:\n",
        "            count += 1\n",
        "        else:\n",
        "            compressed.append(s[i-1] + str(count))\n",
        "            count = 1\n",
        "    compressed.append(s[-1] + str(count))\n",
        "    return \"\".join(compressed)\n",
        "\n",
        "print(compress_string(\"aaabbcddd\"))"
      ],
      "metadata": {
        "colab": {
          "base_uri": "https://localhost:8080/"
        },
        "id": "56Kz6O_TjF1d",
        "outputId": "97f303f8-811d-413f-da30-e3d490255d86"
      },
      "execution_count": null,
      "outputs": [
        {
          "output_type": "stream",
          "name": "stdout",
          "text": [
            "a3b2c1d3\n"
          ]
        }
      ]
    },
    {
      "cell_type": "markdown",
      "source": [
        "7) Write a code to determine if a string has all unique characters"
      ],
      "metadata": {
        "id": "zuZAU04rjFzA"
      }
    },
    {
      "cell_type": "code",
      "source": [
        "def unique(string):\n",
        "  return len(set(string))==len(string)\n",
        "print(unique('vamsii'))"
      ],
      "metadata": {
        "colab": {
          "base_uri": "https://localhost:8080/"
        },
        "id": "MQfy60_ejFyV",
        "outputId": "680022ff-82de-44e6-b44e-7641012b0ece"
      },
      "execution_count": null,
      "outputs": [
        {
          "output_type": "stream",
          "name": "stdout",
          "text": [
            "False\n"
          ]
        }
      ]
    },
    {
      "cell_type": "markdown",
      "source": [
        "8)Write a code to convert a given string to uppercase or lowercase"
      ],
      "metadata": {
        "id": "pmX7spRRjDj4"
      }
    },
    {
      "cell_type": "code",
      "source": [
        "s=\"hello this is Vamsi\"\n",
        "print(s.upper(),s.lower())"
      ],
      "metadata": {
        "colab": {
          "base_uri": "https://localhost:8080/"
        },
        "id": "LiDWZH6pjDha",
        "outputId": "52239226-21f2-48e3-c23b-67730099e95c"
      },
      "execution_count": null,
      "outputs": [
        {
          "output_type": "stream",
          "name": "stdout",
          "text": [
            "HELLO THIS IS VAMSI hello this is vamsi\n"
          ]
        }
      ]
    },
    {
      "cell_type": "markdown",
      "source": [
        "9)Write a code to count the number of words in a string"
      ],
      "metadata": {
        "id": "hq4b2Q0VjDeK"
      }
    },
    {
      "cell_type": "code",
      "source": [
        "def wordslen(string):\n",
        "  return len(string.split())\n",
        "print(wordslen('Hi hello how is the code '))"
      ],
      "metadata": {
        "id": "Vf0Ev8tJjDbB"
      },
      "execution_count": null,
      "outputs": []
    },
    {
      "cell_type": "markdown",
      "source": [
        "10)Write a code to concatenate two strings without using the + operator"
      ],
      "metadata": {
        "id": "rbequ9bdjDYK"
      }
    },
    {
      "cell_type": "code",
      "source": [
        "def concatenateStrings(s1, s2):\n",
        "    return f\"{s1}{s2}\"\n",
        "print(concatenateStrings(\"Hello\", \"World\"))"
      ],
      "metadata": {
        "colab": {
          "base_uri": "https://localhost:8080/"
        },
        "id": "0oKDBskgjDVj",
        "outputId": "c76fa288-8cf4-49c9-d976-bad8fcd42361"
      },
      "execution_count": null,
      "outputs": [
        {
          "output_type": "stream",
          "name": "stdout",
          "text": [
            "HelloWorld\n"
          ]
        }
      ]
    },
    {
      "cell_type": "markdown",
      "source": [
        "11)Write a code to remove all occurrences of a specific element from a list"
      ],
      "metadata": {
        "id": "4zmpvTdgjDS9"
      }
    },
    {
      "cell_type": "code",
      "source": [
        "def removeElements(list,element):\n",
        "  return[x for x in list if x!=element]\n",
        "print(removeElements([2,2,2,3,4,5,6,2,8],2))"
      ],
      "metadata": {
        "colab": {
          "base_uri": "https://localhost:8080/"
        },
        "id": "Ga_YmfLdjDQH",
        "outputId": "477d91a1-117b-4c10-c52e-b087559357c4"
      },
      "execution_count": null,
      "outputs": [
        {
          "output_type": "stream",
          "name": "stdout",
          "text": [
            "[3, 4, 5, 6, 8]\n"
          ]
        }
      ]
    },
    {
      "cell_type": "markdown",
      "source": [
        "12)Implement a code to find the second largest number in a given list of integers"
      ],
      "metadata": {
        "id": "lC6EaE8KjDNf"
      }
    },
    {
      "cell_type": "code",
      "source": [
        "def secondLargest(lst):\n",
        "    return sorted(set(lst))[-2] if len(set(lst) )>1 else None\n",
        "print(secondLargest([10, 20, 4, 45, 99]))"
      ],
      "metadata": {
        "colab": {
          "base_uri": "https://localhost:8080/"
        },
        "id": "_TpBNNmhjDKn",
        "outputId": "9eb16add-bf75-4a47-b375-298c128a6c6c"
      },
      "execution_count": null,
      "outputs": [
        {
          "output_type": "stream",
          "name": "stdout",
          "text": [
            "45\n"
          ]
        }
      ]
    },
    {
      "cell_type": "markdown",
      "source": [
        "13)Create a code to count the occurrences of each element in a list and return a dictionary with elements as\n",
        "keys and their counts as values"
      ],
      "metadata": {
        "id": "36Zo7tUEjDHy"
      }
    },
    {
      "cell_type": "code",
      "source": [
        "from collections import Counter\n",
        "\n",
        "def countElements(lst):\n",
        "    return dict(Counter(lst))\n",
        "print(countElements([1, 2, 2, 3, 3, 3, 4]))"
      ],
      "metadata": {
        "colab": {
          "base_uri": "https://localhost:8080/"
        },
        "id": "gQSO1kJvjDFO",
        "outputId": "14896ae4-0217-4fc4-8917-a2ea0230c0b7"
      },
      "execution_count": null,
      "outputs": [
        {
          "output_type": "stream",
          "name": "stdout",
          "text": [
            "{1: 1, 2: 2, 3: 3, 4: 1}\n"
          ]
        }
      ]
    },
    {
      "cell_type": "markdown",
      "source": [
        "14)Write a code to reverse a list in-place without using any built-in reverse functions"
      ],
      "metadata": {
        "id": "0htGg80_jDEo"
      }
    },
    {
      "cell_type": "code",
      "source": [
        "def reverseList(lst):\n",
        "    left, right = 0, len(lst) - 1\n",
        "    while left < right:\n",
        "        lst[left], lst[right] = lst[right], lst[left]\n",
        "        left += 1\n",
        "        right -= 1\n",
        "    return lst\n",
        "\n",
        "print(reverseList([1, 2, 3, 4, 5]))"
      ],
      "metadata": {
        "colab": {
          "base_uri": "https://localhost:8080/"
        },
        "id": "A8yULILSjC5j",
        "outputId": "40addcd6-19cc-4dbf-9262-53df675c0d6d"
      },
      "execution_count": null,
      "outputs": [
        {
          "output_type": "stream",
          "name": "stdout",
          "text": [
            "[5, 4, 3, 2, 1]\n"
          ]
        }
      ]
    },
    {
      "cell_type": "markdown",
      "source": [
        "15)Implement a code to find and remove duplicates from a list while preserving the original order of\n",
        "elements"
      ],
      "metadata": {
        "id": "5hYiqBoqjC46"
      }
    },
    {
      "cell_type": "code",
      "source": [
        "def removeDuplicatesOrder(lst):\n",
        "    seen = set()\n",
        "    return [x for x in lst if not (x in seen or seen.add(x))]\n",
        "\n",
        "print(removeDuplicatesOrder([1, 2, 2, 3, 4, 4, 5]))"
      ],
      "metadata": {
        "colab": {
          "base_uri": "https://localhost:8080/"
        },
        "id": "HVq-o74XsqqJ",
        "outputId": "e7faa161-6ade-40fe-b0bc-aec17cbcdfe2"
      },
      "execution_count": null,
      "outputs": [
        {
          "output_type": "stream",
          "name": "stdout",
          "text": [
            "[1, 2, 3, 4, 5]\n"
          ]
        }
      ]
    },
    {
      "cell_type": "markdown",
      "source": [
        "16)Create a code to check if a given list is sorted (either in ascending or descending order) or not"
      ],
      "metadata": {
        "id": "3DpN8TjNsqnR"
      }
    },
    {
      "cell_type": "code",
      "source": [
        "def isSorted(lst):\n",
        "    ascending = all(lst[i] <= lst[i + 1] for i in range(len(lst) - 1))\n",
        "    descending = all(lst[i] >= lst[i + 1] for i in range(len(lst) - 1))\n",
        "    return ascending or descending\n",
        "\n",
        "print(isSorted([1, 2, 3, 4, 5]))\n",
        "print(isSorted([5, 4, 3, 2, 1]))"
      ],
      "metadata": {
        "colab": {
          "base_uri": "https://localhost:8080/"
        },
        "id": "gquCFCGqsqh1",
        "outputId": "7b660432-17a2-41f0-da77-0aa7e01a2ee8"
      },
      "execution_count": null,
      "outputs": [
        {
          "output_type": "stream",
          "name": "stdout",
          "text": [
            "True\n",
            "True\n"
          ]
        }
      ]
    },
    {
      "cell_type": "markdown",
      "source": [
        "17)Write a code to merge two sorted lists into a single sorted list"
      ],
      "metadata": {
        "id": "SKsukZK_xtZB"
      }
    },
    {
      "cell_type": "code",
      "source": [
        "def mergeSorted(list1, list2):\n",
        "  mergedList = []\n",
        "  i = j = 0\n",
        "  while i < len(list1) and j < len(list2):\n",
        "    if list1[i] <= list2[j]:\n",
        "      mergedList.append(list1[i])\n",
        "      i += 1\n",
        "    else:\n",
        "      mergedList.append(list2[j])\n",
        "      j += 1\n",
        "  mergedList.extend(list1[i:])\n",
        "  mergedList.extend(list2[j:])\n",
        "  return mergedList\n",
        "\n",
        "print(mergeSorted([2, 5, 7, 9], [1, 3, 4, 6, 8]))"
      ],
      "metadata": {
        "colab": {
          "base_uri": "https://localhost:8080/"
        },
        "id": "IKMZiVCpxtCn",
        "outputId": "f6799093-b497-4966-da73-df6228efa4f4"
      },
      "execution_count": null,
      "outputs": [
        {
          "output_type": "stream",
          "name": "stdout",
          "text": [
            "[1, 2, 3, 4, 5, 6, 7, 8, 9]\n"
          ]
        }
      ]
    },
    {
      "cell_type": "markdown",
      "source": [
        "18)Implement a code to find the intersection of two given lists\u0012"
      ],
      "metadata": {
        "id": "JjajmSZ7xs__"
      }
    },
    {
      "cell_type": "code",
      "source": [
        "def intersection(list1, list2):\n",
        "  return list(set(list1) & set(list2))\n",
        "print(intersection([1, 2, 3, 4, 5], [3, 4, 5, 6, 7]))"
      ],
      "metadata": {
        "colab": {
          "base_uri": "https://localhost:8080/"
        },
        "id": "q6FfivXxxs8o",
        "outputId": "0d5e1ca9-24f8-49fc-d213-dd5747fc0d3f"
      },
      "execution_count": null,
      "outputs": [
        {
          "output_type": "stream",
          "name": "stdout",
          "text": [
            "[3, 4, 5]\n"
          ]
        }
      ]
    },
    {
      "cell_type": "markdown",
      "source": [
        "19)Create a code to find the union of two lists without duplicates\u0012"
      ],
      "metadata": {
        "id": "-alg4oMHy8yF"
      }
    },
    {
      "cell_type": "code",
      "source": [
        "def union(list1, list2):\n",
        "  return list(set(list1) | set(list2))\n",
        "print(union([1, 2, 3, 4, 5], [3, 4, 5, 6, 7]))"
      ],
      "metadata": {
        "colab": {
          "base_uri": "https://localhost:8080/"
        },
        "id": "xG8iYmwTy8bC",
        "outputId": "5efebbdb-e37f-4320-8681-4e2defb909e0"
      },
      "execution_count": null,
      "outputs": [
        {
          "output_type": "stream",
          "name": "stdout",
          "text": [
            "[1, 2, 3, 4, 5, 6, 7]\n"
          ]
        }
      ]
    },
    {
      "cell_type": "markdown",
      "source": [
        "20)Write a code to shuffle a given list randomly without using any built-in shuffle functions"
      ],
      "metadata": {
        "id": "Ih2uP2W7zQ0Z"
      }
    },
    {
      "cell_type": "code",
      "source": [
        "import random\n",
        "\n",
        "def shuffleList(lst):\n",
        "    n = len(lst)\n",
        "    for i in range(n - 1, 0, -1):\n",
        "        j = random.randint(0, i)\n",
        "        lst[i], lst[j] = lst[j], lst[i]\n",
        "    return lst\n",
        "\n",
        "print(shuffleList([1, 2, 3, 4, 5, 6]))\n"
      ],
      "metadata": {
        "colab": {
          "base_uri": "https://localhost:8080/"
        },
        "id": "GpwnJ84ezt3e",
        "outputId": "4da8d6ab-68bb-4943-b490-ea0298d1022b"
      },
      "execution_count": null,
      "outputs": [
        {
          "output_type": "stream",
          "name": "stdout",
          "text": [
            "[5, 2, 6, 4, 3, 1]\n"
          ]
        }
      ]
    },
    {
      "cell_type": "markdown",
      "source": [
        "21)Write a code that takes two tuples as input and returns a new tuple containing elements that are\n",
        "common to both input tuples"
      ],
      "metadata": {
        "id": "yhzEpsEBsqe8"
      }
    },
    {
      "cell_type": "code",
      "source": [
        "def concatTuples(t1, t2):\n",
        "    return t1 + t2\n",
        "\n",
        "print(concatTuples((1, 2, 3), (4, 5, 6)))"
      ],
      "metadata": {
        "colab": {
          "base_uri": "https://localhost:8080/"
        },
        "id": "BLzYGDscsqZu",
        "outputId": "75e73f40-2e94-46a8-e544-6acd6aca310d"
      },
      "execution_count": null,
      "outputs": [
        {
          "output_type": "stream",
          "name": "stdout",
          "text": [
            "(2, 3)\n"
          ]
        }
      ]
    },
    {
      "cell_type": "markdown",
      "source": [
        "22)Create a code that prompts the user to enter two sets of integers separated by commas. Then, print the\n",
        "intersection of these two sets"
      ],
      "metadata": {
        "id": "5TSKm9DXsqW3"
      }
    },
    {
      "cell_type": "code",
      "source": [
        "def tuple_intersection(t1, t2):\n",
        "    return tuple(set(t1) & set(t2))\n",
        "\n",
        "print(tuple_intersection((1, 2, 3), (2, 3, 4)))"
      ],
      "metadata": {
        "id": "7pM0EZt2sqRZ"
      },
      "execution_count": null,
      "outputs": []
    },
    {
      "cell_type": "markdown",
      "source": [
        "23)Write a code to concatenate two tuples. The function should take two tuples as input and return a new\n",
        "tuple containing elements from both input tuples."
      ],
      "metadata": {
        "id": "5dc-XE__sqOi"
      }
    },
    {
      "cell_type": "code",
      "source": [
        "def concatenateTuples(tuple1, tuple2):\n",
        "  return tuple1 + tuple2\n",
        "\n",
        "print(concatenateTuples((4,3,22,2,7), (8,7,9,1)))"
      ],
      "metadata": {
        "colab": {
          "base_uri": "https://localhost:8080/"
        },
        "id": "L6y85PHQvKFX",
        "outputId": "09591917-ecc4-4951-d294-ba857f84dff0"
      },
      "execution_count": null,
      "outputs": [
        {
          "output_type": "stream",
          "name": "stdout",
          "text": [
            "(4, 3, 22, 2, 7, 8, 7, 9, 1)\n"
          ]
        }
      ]
    },
    {
      "cell_type": "markdown",
      "source": [
        "24) Develop a code that prompts the user to input two sets of strings. Then, print the elements that are\n",
        "present in the first set but not in the second set."
      ],
      "metadata": {
        "id": "0MQKuHyQvKCv"
      }
    },
    {
      "cell_type": "code",
      "source": [
        "def difference(set1, set2):\n",
        "    return set1 - set2\n",
        "set1 = set(input(\"\").split(\",\"))\n",
        "set2 = set(input(\"\").split(\",\"))\n",
        "print(difference(set1,set2))"
      ],
      "metadata": {
        "colab": {
          "base_uri": "https://localhost:8080/"
        },
        "id": "KvFX4zBUvJ_q",
        "outputId": "8b82775f-6e19-4c22-97bb-070d27e9197e"
      },
      "execution_count": null,
      "outputs": [
        {
          "output_type": "stream",
          "name": "stdout",
          "text": [
            "43232\n",
            "3232\n",
            "{'4'}\n"
          ]
        }
      ]
    },
    {
      "cell_type": "markdown",
      "source": [
        "25)Create a code that takes a tuple and two integers as input. The function should return a new tuple\n",
        "containing elements from the original tuple within the specified range of indices"
      ],
      "metadata": {
        "id": "1B-IMcmzvJvq"
      }
    },
    {
      "cell_type": "code",
      "source": [
        "def tupleRange(t, start_index, end_index):\n",
        "  return t[start_index:end_index]\n",
        "print(tupleRange((1, 2, 3, 4, 5), 3,5))"
      ],
      "metadata": {
        "colab": {
          "base_uri": "https://localhost:8080/"
        },
        "id": "re37t_Yi1nq_",
        "outputId": "36b78366-f75b-474e-ae83-40113bb2077e"
      },
      "execution_count": null,
      "outputs": [
        {
          "output_type": "execute_result",
          "data": {
            "text/plain": [
              "(4, 5)"
            ]
          },
          "metadata": {},
          "execution_count": 64
        }
      ]
    },
    {
      "cell_type": "markdown",
      "source": [
        "26)Write a code that prompts the user to input two sets of characters. Then, print the union of these two sets."
      ],
      "metadata": {
        "id": "5o8VxM48sqL7"
      }
    },
    {
      "cell_type": "code",
      "source": [
        "def setUnion(set1, set2):\n",
        "  return set1.union(set2)\n",
        "\n",
        "set1 = set(input(\"\").split(\",\"))\n",
        "set2 = set(input(\"\").split(\",\"))\n",
        "print(setUnion(set1, set2))"
      ],
      "metadata": {
        "colab": {
          "base_uri": "https://localhost:8080/"
        },
        "id": "WiDMFRz4vcIF",
        "outputId": "5e66fa20-3ad8-416f-a1b8-c4d972b083ce"
      },
      "execution_count": null,
      "outputs": [
        {
          "output_type": "stream",
          "name": "stdout",
          "text": [
            "4,3,2\n",
            "2,3,4\n",
            "{'2', '3', '4'}\n"
          ]
        }
      ]
    },
    {
      "cell_type": "markdown",
      "source": [
        "27)Develop a code that takes a tuple of integers as input. The function should return the maximum and\n",
        "minimum values from the tuple using tuple unpacking"
      ],
      "metadata": {
        "id": "XvETX26TsqJV"
      }
    },
    {
      "cell_type": "code",
      "source": [
        "def findMaxMin(numbers):\n",
        "  min = max = numbers[0]\n",
        "  for num in numbers:\n",
        "    if num < min:\n",
        "      min = num\n",
        "    if num > max:\n",
        "      max = num\n",
        "  return max, min\n",
        "\n",
        "\n",
        "print(findMaxMin((1, 5, 2, 8, 3)))"
      ],
      "metadata": {
        "colab": {
          "base_uri": "https://localhost:8080/"
        },
        "id": "hQu786FBsqDY",
        "outputId": "aac43ca7-3c0f-441a-85fb-4264b9664a4e"
      },
      "execution_count": null,
      "outputs": [
        {
          "output_type": "stream",
          "name": "stdout",
          "text": [
            "(8, 1)\n"
          ]
        }
      ]
    },
    {
      "cell_type": "markdown",
      "source": [
        "28)Create a code that defines two sets of integers. Then, print the union, intersection, and difference of these\n",
        "two sets&"
      ],
      "metadata": {
        "id": "156bvXbAsqAd"
      }
    },
    {
      "cell_type": "code",
      "source": [
        "set1 = {1, 2, 3, 4, 5}\n",
        "set2 = {4, 5, 6, 7, 8}\n",
        "print(\"Union:\", set1 | set2)\n",
        "print(\"Intersection:\", set1 & set2)\n",
        "print(\"Difference:\", set1 - set2)"
      ],
      "metadata": {
        "colab": {
          "base_uri": "https://localhost:8080/"
        },
        "id": "BdRA2YKP5Zbl",
        "outputId": "a0023c39-fdef-4502-a1bd-45bfa13f7a48"
      },
      "execution_count": null,
      "outputs": [
        {
          "output_type": "stream",
          "name": "stdout",
          "text": [
            "Union: {1, 2, 3, 4, 5, 6, 7, 8}\n",
            "Intersection: {4, 5}\n",
            "Difference: {1, 2, 3}\n"
          ]
        }
      ]
    },
    {
      "cell_type": "markdown",
      "source": [
        "29)Write a code that takes a tuple and an element as input. The function should return the count of\n",
        "occurrences of the given element in the tuple"
      ],
      "metadata": {
        "id": "R4JAnSUh5ZZm"
      }
    },
    {
      "cell_type": "code",
      "source": [
        "def countOccurrences(tuple, element):\n",
        "  return tuple.count(element)\n",
        "print(countOccurrences((1, 2, 3,3,7, 4, 5), 3))"
      ],
      "metadata": {
        "colab": {
          "base_uri": "https://localhost:8080/"
        },
        "id": "_wHdn6lA5YTd",
        "outputId": "5e638f6d-520d-4524-8c2f-a9c581f0a032"
      },
      "execution_count": null,
      "outputs": [
        {
          "output_type": "stream",
          "name": "stdout",
          "text": [
            "2\n"
          ]
        }
      ]
    },
    {
      "cell_type": "markdown",
      "source": [
        "30)Develop a code that prompts the user to input two sets of strings. Then, print the symmetric difference of\n",
        "these two sets."
      ],
      "metadata": {
        "id": "ycqJ7Mii6Zuw"
      }
    },
    {
      "cell_type": "code",
      "source": [
        "set1 = set(input(\"\").split(\",\"))\n",
        "set2 = set(input(\"\").split(\",\"))\n",
        "\n",
        "print(\"Symmetric difference:\", set1 ^ set2)"
      ],
      "metadata": {
        "colab": {
          "base_uri": "https://localhost:8080/"
        },
        "id": "3PWWerkn6ZKH",
        "outputId": "27a23080-b206-44fe-b71a-885c2b09f20c"
      },
      "execution_count": null,
      "outputs": [
        {
          "output_type": "stream",
          "name": "stdout",
          "text": [
            "4,5,7,8,1,1\n",
            "4,2,1,1,8,32,3\n",
            "Symmetric difference: {'7', '2', '3', '32', '5'}\n"
          ]
        }
      ]
    },
    {
      "cell_type": "markdown",
      "source": [
        "31)Write a code that takes a list of words as input and returns a dictionary where the keys are unique words\n",
        "and the values are the frequencies of those words in the input list."
      ],
      "metadata": {
        "id": "UHqcLuB0sp93"
      }
    },
    {
      "cell_type": "code",
      "source": [
        "from collections import Counter\n",
        "\n",
        "def wordFrequencies(words):\n",
        "    return dict(Counter(words))\n",
        "\n",
        "words = [\"apple\", \"banana\", \"apple\", \"orange\", \"banana\", \"banana\"]\n",
        "print(wordFrequencies(words))"
      ],
      "metadata": {
        "colab": {
          "base_uri": "https://localhost:8080/"
        },
        "id": "SlL1ItPHsp7e",
        "outputId": "c1a46e53-1fc8-41c1-b515-b0e892454dea"
      },
      "execution_count": null,
      "outputs": [
        {
          "output_type": "stream",
          "name": "stdout",
          "text": [
            "{'apple': 2, 'banana': 3, 'orange': 1}\n"
          ]
        }
      ]
    },
    {
      "cell_type": "markdown",
      "source": [
        "32)Write a code that takes two dictionaries as input and merges them into a single dictionary. If there are\n",
        "common keys, the values should be added together."
      ],
      "metadata": {
        "id": "eVTIf7BGsp6v"
      }
    },
    {
      "cell_type": "code",
      "source": [
        "def mergeDicts(d1, d2):\n",
        "    for key, value in d2.items():\n",
        "        d1[key] = d1.get(key, 0) + value\n",
        "    return d1\n",
        "\n",
        "print(mergeDicts({\"a\": 2, \"b\": 3}, {\"b\": 4, \"c\": 5}))"
      ],
      "metadata": {
        "id": "ElhRPMsIspzN"
      },
      "execution_count": null,
      "outputs": []
    },
    {
      "cell_type": "markdown",
      "source": [
        "33)Write a code to access a value in a nested dictionary. The function should take the dictionary and a list of\n",
        "keys as input, and return the corresponding value. If any of the keys do not exist in the dictionary, the\n",
        "function should return None&"
      ],
      "metadata": {
        "id": "gvhwVED9spwm"
      }
    },
    {
      "cell_type": "code",
      "source": [
        "def getNestedValue(d, keys):\n",
        "    for key in keys:\n",
        "        d = d.get(key)\n",
        "        if d is None:\n",
        "            return None\n",
        "    return d\n",
        "\n",
        "nestedDict = {\"a\": {\"b\": {\"c\": 42}}}\n",
        "print(getNestedValue(nestedDict, [\"a\", \"b\", \"c\"]))"
      ],
      "metadata": {
        "colab": {
          "base_uri": "https://localhost:8080/"
        },
        "id": "SIGsjqdEspth",
        "outputId": "fb0a7666-f6d8-4c32-aed9-29994aeeb737"
      },
      "execution_count": null,
      "outputs": [
        {
          "output_type": "stream",
          "name": "stdout",
          "text": [
            "42\n"
          ]
        }
      ]
    },
    {
      "cell_type": "markdown",
      "source": [
        "34) Write a code that takes a dictionary as input and returns a sorted version of it based on the values. You\n",
        "can choose whether to sort in ascending or descending order&"
      ],
      "metadata": {
        "id": "-jEc3Vx_spqW"
      }
    },
    {
      "cell_type": "code",
      "source": [
        "def sortDictByValue(d, descending=False):\n",
        "    return dict(sorted(d.items(), key=lambda item: item[1], reverse=descending))\n",
        "\n",
        "print(sortDictByValue({\"a\": 3, \"b\": 1, \"c\": 2}))\n",
        "print(sortDictByValue({\"a\": 3, \"b\": 1, \"c\": 2}, descending=True))"
      ],
      "metadata": {
        "colab": {
          "base_uri": "https://localhost:8080/"
        },
        "id": "qgGEG7H0vf_u",
        "outputId": "e243a88f-58c6-47b1-dc85-746ce140d4ec"
      },
      "execution_count": null,
      "outputs": [
        {
          "output_type": "stream",
          "name": "stdout",
          "text": [
            "{'b': 1, 'c': 2, 'a': 3}\n",
            "{'a': 3, 'c': 2, 'b': 1}\n"
          ]
        }
      ]
    },
    {
      "cell_type": "markdown",
      "source": [
        "35)Write a code that inverts a dictionary, swapping keys and values. Ensure that the inverted dictionary\n",
        "correctly handles cases where multiple keys have the same value by storing the keys as a list in the\n",
        "inverted dictionary."
      ],
      "metadata": {
        "id": "yss67yNDspoP"
      }
    },
    {
      "cell_type": "code",
      "source": [
        "def invertDict(d):\n",
        "    inverted = {}\n",
        "    for key, value in d.items():\n",
        "        inverted.setdefault(value, []).append(key)\n",
        "    return inverted\n",
        "\n",
        "print(invertDict({\"a\": 1, \"b\": 2, \"c\": 1}))"
      ],
      "metadata": {
        "id": "uYrx8_Npspne"
      },
      "execution_count": null,
      "outputs": []
    },
    {
      "cell_type": "markdown",
      "source": [],
      "metadata": {
        "id": "27_qq5Kei-6B"
      }
    }
  ]
}