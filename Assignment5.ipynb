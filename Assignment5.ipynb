{
  "cells": [
    {
      "cell_type": "markdown",
      "source": [
        "## **Numpy Assignment**"
      ],
      "metadata": {
        "id": "EHp0YjCZciPg"
      }
    },
    {
      "cell_type": "markdown",
      "metadata": {
        "id": "PkyIdjmvj1n0"
      },
      "source": [
        "Theory Questions :"
      ]
    },
    {
      "cell_type": "markdown",
      "source": [
        "1)  Explain the purpose and advantages of NumPy in scientific computing and data analysis. How does it\n",
        "enhance Python's capabilities for numerical operations?\n",
        "\n",
        "Ans)Numpy is used to perform so many mathmatical operations which are used to analyse the data to find what kind of data is there and\n",
        "this analysis is helpful to select the perfect model to train the data.\n",
        "As Numpy is made by using c It is fast in performing the mathematical operations and helps to do large calculations and operations in algebra,\n",
        "matrix operations etc  "
      ],
      "metadata": {
        "id": "h9l8CMjFqWEB"
      }
    },
    {
      "cell_type": "markdown",
      "source": [
        "2)Compare and contrast np.mean() and np.average() functions in NumPy. When would you use one over the\n",
        "other?\n",
        "\n",
        "Ans) np.mean is used to calculate only the mean of the elements in the array by sum of elements to the number of elements in the array.\n",
        "where as the np.average takes two inputs if only the array is given then it gives the mean of the array if the weighted array is also given then it will follows weighted Mean by using the two arrays."
      ],
      "metadata": {
        "id": "LE-yeH4Oq1eZ"
      }
    },
    {
      "cell_type": "markdown",
      "metadata": {
        "id": "nxBMnb2kjz4A"
      },
      "source": [
        "3) Describe the methods for reversing a NumPy array along different axes. Provide examples for 1D and 2D\n",
        "arrays.\n",
        "\n",
        "Ans) we can reverse the array by using the slicing and flip concepts."
      ]
    },
    {
      "cell_type": "code",
      "source": [
        "import numpy as np\n",
        "arr1d= np.array([1,2,3,4,5])\n",
        "print (arr1d[::-1])\n",
        "arr2d=np.array([[2,3,4],[4,6,7],[6,7,8]])\n",
        "print (arr2d[::-1])\n",
        "np.flip(arr1d)\n",
        "np.flip(arr2d)"
      ],
      "metadata": {
        "id": "twxQk5XI2rkN",
        "colab": {
          "base_uri": "https://localhost:8080/"
        },
        "outputId": "e77a8189-fb18-47a9-9903-e55d14585802"
      },
      "execution_count": null,
      "outputs": [
        {
          "output_type": "stream",
          "name": "stdout",
          "text": [
            "[5 4 3 2 1]\n",
            "[[6 7 8]\n",
            " [4 6 7]\n",
            " [2 3 4]]\n"
          ]
        },
        {
          "output_type": "execute_result",
          "data": {
            "text/plain": [
              "array([[8, 7, 6],\n",
              "       [7, 6, 4],\n",
              "       [4, 3, 2]])"
            ]
          },
          "metadata": {},
          "execution_count": 5
        }
      ]
    },
    {
      "cell_type": "markdown",
      "source": [
        "4) How can you determine the data type of elements in a NumPy array? Discuss the importance of data types\n",
        "in memory management and performance.\n",
        "\n",
        "Ans) Arrays are mainly used to store same type of datatypes in the array. because of this reason all the homogenous elements of the array are stored side by side. so if we call the elements it will come fast compare with the list because list contains different types of datatypes where each element will store in different locations which increases the memory and also the time to retrieve.  "
      ],
      "metadata": {
        "id": "qvbsb-xE70Iy"
      }
    },
    {
      "cell_type": "markdown",
      "source": [
        "5. Define ndarrays in NumPy and explain their key features. How do they differ from standard Python lists?\n",
        "\n",
        "Ans) Ndarrays are used to store the homogenous data and the size is fixed at the time of creation, it is used to fast retrival of the elements and it also saves the memeory as the elements are side by side. It is also used to perform the mathematical operations like algebra, matrix operations etc...\n",
        "\n",
        "Lists are used to store heterogenous data where it can increase the size when it is requried, it is slow compare to array as the elements are in different locations. It is not suitable for all mathematical operations."
      ],
      "metadata": {
        "id": "2pEvKrNNCFGZ"
      }
    },
    {
      "cell_type": "markdown",
      "source": [
        "6. Analyze the performance benefits of NumPy arrays over Python lists for large-scale numerical operations.\n",
        "\n",
        "Ans) Numpy arrays are mainly used when we requrie memory efficiency , used for mathematical operations, Speed ."
      ],
      "metadata": {
        "id": "oKGAoQDvMObt"
      }
    },
    {
      "cell_type": "markdown",
      "source": [
        "7. Compare vstack() and hstack() functions in NumPy. Provide examples demonstrating their usage and\n",
        "output.\n",
        "\n",
        "Ans) These two are used to stack the array elements in the horizonatal or vertical stacks based on the commands."
      ],
      "metadata": {
        "id": "GzqHlKVHi383"
      }
    },
    {
      "cell_type": "code",
      "source": [
        "a= np.array([1,2,3,4])\n",
        "b=np.array([5,9,5,3])\n",
        "c=np.vstack((a,b))\n",
        "c\n",
        "d= np.hstack((a,b))\n",
        "d"
      ],
      "metadata": {
        "id": "UqyKiGcXjeVG",
        "colab": {
          "base_uri": "https://localhost:8080/"
        },
        "outputId": "6d0b2957-16c6-47b4-a096-d1c55101991a"
      },
      "execution_count": null,
      "outputs": [
        {
          "output_type": "execute_result",
          "data": {
            "text/plain": [
              "array([1, 2, 3, 4, 5, 9, 5, 3])"
            ]
          },
          "metadata": {},
          "execution_count": 15
        }
      ]
    },
    {
      "cell_type": "markdown",
      "source": [
        "8. Explain the differences between fliplr() and flipud() methods in NumPy, including their effects on various\n",
        "array dimensions.\n",
        "\n",
        "Ans) Both them are used to flip the"
      ],
      "metadata": {
        "id": "xQiYmH4EpXAG"
      }
    },
    {
      "cell_type": "code",
      "source": [
        "flip= np.array([[2,3,5,6],[5,3,2,1]])\n",
        "e= np.fliplr(flip)\n",
        "print(e)\n",
        "f= np.flipud(flip)\n",
        "print(f)"
      ],
      "metadata": {
        "id": "SqMW6ris29TP",
        "colab": {
          "base_uri": "https://localhost:8080/"
        },
        "outputId": "016bf2b6-44cf-463e-99a2-217b6ca1dde9"
      },
      "execution_count": null,
      "outputs": [
        {
          "output_type": "stream",
          "name": "stdout",
          "text": [
            "[[6 5 3 2]\n",
            " [1 2 3 5]]\n",
            "[[5 3 2 1]\n",
            " [2 3 5 6]]\n"
          ]
        }
      ]
    },
    {
      "cell_type": "markdown",
      "source": [
        "9. Discuss the functionality of the array_split() method in NumPy. How does it handle uneven splits?\n",
        "\n",
        "Ans) This is similar to split method which handels the uneven splits. it first tries to divides the array elements evenly by the given number if it is not happened then it will keep the remaining elements in the next sub array."
      ],
      "metadata": {
        "id": "4-VY1LHUqvgK"
      }
    },
    {
      "cell_type": "code",
      "source": [
        "arr = np.arange(6)\n",
        "result = np.array_split(arr, 2)\n",
        "result"
      ],
      "metadata": {
        "colab": {
          "base_uri": "https://localhost:8080/"
        },
        "id": "cMJrmCfvoXw7",
        "outputId": "b6c24ac1-f04d-4d3d-9a14-3cc6e7bec0de"
      },
      "execution_count": null,
      "outputs": [
        {
          "output_type": "execute_result",
          "data": {
            "text/plain": [
              "[array([0, 1, 2]), array([3, 4, 5])]"
            ]
          },
          "metadata": {},
          "execution_count": 39
        }
      ]
    },
    {
      "cell_type": "markdown",
      "source": [
        "10. Explain the concepts of vectorization and broadcasting in NumPy. How do they contribute to efficient array\n",
        "operations?\n",
        "\n",
        "Ans) Both are used to perform the operations fastly where vectorization performs operations element by element and broadcasting performs by expanding the matrices."
      ],
      "metadata": {
        "id": "mwI9sEP4s8sL"
      }
    },
    {
      "cell_type": "markdown",
      "source": [
        "Practical Questions"
      ],
      "metadata": {
        "id": "5pIwO00ettb3"
      }
    },
    {
      "cell_type": "code",
      "source": [
        "\"1. Create a 3x3 NumPy array with random integers between 1 and 100. Then, interchange its rows and columns\"\n",
        "\n",
        "t=np.random.randint(1,100,(3,3))\n",
        "print(t)\n",
        "print(t.T)"
      ],
      "metadata": {
        "colab": {
          "base_uri": "https://localhost:8080/"
        },
        "id": "xDUB-T3nq5cJ",
        "outputId": "bd7d2ef9-1146-4d3d-81a3-ecf75bb9eaaf"
      },
      "execution_count": null,
      "outputs": [
        {
          "output_type": "stream",
          "name": "stdout",
          "text": [
            "[[96 62 27]\n",
            " [17 12 27]\n",
            " [43 87 22]]\n",
            "[[96 17 43]\n",
            " [62 12 87]\n",
            " [27 27 22]]\n"
          ]
        }
      ]
    },
    {
      "cell_type": "code",
      "source": [
        "\"2. Generate a 1D NumPy array with 10 elements. Reshape it into a 2x5 array, then into a 5x2 array.\"\n",
        "n=np.arange(10)\n",
        "n.reshape(2,5)\n",
        "n.reshape(5,2)"
      ],
      "metadata": {
        "colab": {
          "base_uri": "https://localhost:8080/"
        },
        "id": "dWAk-SBttwfL",
        "outputId": "97fdba7a-1151-4bed-cbd5-a65a90af82fe"
      },
      "execution_count": null,
      "outputs": [
        {
          "output_type": "execute_result",
          "data": {
            "text/plain": [
              "array([[0, 1],\n",
              "       [2, 3],\n",
              "       [4, 5],\n",
              "       [6, 7],\n",
              "       [8, 9]])"
            ]
          },
          "metadata": {},
          "execution_count": 47
        }
      ]
    },
    {
      "cell_type": "code",
      "source": [
        "\"3. Create a 4x4 NumPy array with random float values. Add a border of zeros around it, resulting in a 6x6 array.\"\n",
        "f=np.random.rand(4,4)\n",
        "np.pad(f,1)"
      ],
      "metadata": {
        "colab": {
          "base_uri": "https://localhost:8080/"
        },
        "id": "uopiRoePvU-4",
        "outputId": "3486b346-7870-40c5-95e9-838e9224370a"
      },
      "execution_count": null,
      "outputs": [
        {
          "output_type": "execute_result",
          "data": {
            "text/plain": [
              "array([[0.        , 0.        , 0.        , 0.        , 0.        ,\n",
              "        0.        ],\n",
              "       [0.        , 0.55759251, 0.9590636 , 0.71952978, 0.24289794,\n",
              "        0.        ],\n",
              "       [0.        , 0.76627775, 0.7291927 , 0.47282754, 0.06964111,\n",
              "        0.        ],\n",
              "       [0.        , 0.48344665, 0.38253432, 0.26831811, 0.23722793,\n",
              "        0.        ],\n",
              "       [0.        , 0.48425759, 0.804066  , 0.07846739, 0.50032839,\n",
              "        0.        ],\n",
              "       [0.        , 0.        , 0.        , 0.        , 0.        ,\n",
              "        0.        ]])"
            ]
          },
          "metadata": {},
          "execution_count": 47
        }
      ]
    },
    {
      "cell_type": "code",
      "source": [
        "\"4. Using NumPy, create an array of integers from 10 to 60 with a step of 5.\"\n",
        "arr1=np.arange(10,60,5)\n",
        "arr1"
      ],
      "metadata": {
        "id": "APDxsQbqvtd_",
        "colab": {
          "base_uri": "https://localhost:8080/"
        },
        "outputId": "eae1a427-6b6b-4165-d3f7-ef9c565de81d"
      },
      "execution_count": null,
      "outputs": [
        {
          "output_type": "execute_result",
          "data": {
            "text/plain": [
              "array([10, 15, 20, 25, 30, 35, 40, 45, 50, 55])"
            ]
          },
          "metadata": {},
          "execution_count": 4
        }
      ]
    },
    {
      "cell_type": "code",
      "source": [
        "'''5. Create a NumPy array of strings ['python', 'numpy', 'pandas']. Apply different case transformations\n",
        "(uppercase, lowercase, title case, etc.) to each element.'''\n",
        "Str=np.array(['python','numpy','pandas'])\n",
        "np.char.upper(Str)\n",
        "np.char.lower(Str)\n",
        "np.char.title(Str)"
      ],
      "metadata": {
        "colab": {
          "base_uri": "https://localhost:8080/"
        },
        "id": "153k7v0X2Zl0",
        "outputId": "f58f0457-3700-48f1-ffc9-670b3ad9d3f9"
      },
      "execution_count": null,
      "outputs": [
        {
          "output_type": "execute_result",
          "data": {
            "text/plain": [
              "array(['Python', 'Numpy', 'Pandas'], dtype='<U6')"
            ]
          },
          "metadata": {},
          "execution_count": 9
        }
      ]
    },
    {
      "cell_type": "code",
      "source": [
        "'''6. Generate a NumPy array of words. Insert a space between each character of every word in the array'''\n",
        "arr=np.array(['pw','skills','online','class'])\n",
        "np.char.join(' ',arr)"
      ],
      "metadata": {
        "colab": {
          "base_uri": "https://localhost:8080/"
        },
        "id": "rleLe5xlGWfA",
        "outputId": "9153385c-1c39-4b89-d4ad-f9a84b843af9"
      },
      "execution_count": null,
      "outputs": [
        {
          "output_type": "execute_result",
          "data": {
            "text/plain": [
              "array(['p w', 's k i l l s', 'o n l i n e', 'c l a s s'], dtype='<U11')"
            ]
          },
          "metadata": {},
          "execution_count": 11
        }
      ]
    },
    {
      "cell_type": "code",
      "source": [
        "'''7. Create two 2D NumPy arrays and perform element-wise addition, subtraction, multiplication, and division.'''\n",
        "arr7=np.array([[2,3,4],[5,6,7]])\n",
        "arr8=np.array([[1,3,6],[2,9,8]])\n",
        "arr7+arr8\n",
        "arr7-arr8\n",
        "arr7*arr8\n",
        "arr7/arr8\n"
      ],
      "metadata": {
        "colab": {
          "base_uri": "https://localhost:8080/"
        },
        "id": "sLDHrwkgGzSH",
        "outputId": "13aa8f74-1755-4be9-caec-d67556562863"
      },
      "execution_count": null,
      "outputs": [
        {
          "output_type": "execute_result",
          "data": {
            "text/plain": [
              "array([[2.        , 1.        , 0.66666667],\n",
              "       [2.5       , 0.66666667, 0.875     ]])"
            ]
          },
          "metadata": {},
          "execution_count": 13
        }
      ]
    },
    {
      "cell_type": "code",
      "source": [
        "\"8. Use NumPy to create a 5x5 identity matrix, then extract its diagonal elements.\"\n",
        "arr8=np.identity(5)\n",
        "np.diag(arr8)"
      ],
      "metadata": {
        "colab": {
          "base_uri": "https://localhost:8080/"
        },
        "id": "I2_7iCs8LJh6",
        "outputId": "04ffd07b-9664-4d18-c429-ca7e80dbdc30"
      },
      "execution_count": null,
      "outputs": [
        {
          "output_type": "execute_result",
          "data": {
            "text/plain": [
              "array([1., 1., 1., 1., 1.])"
            ]
          },
          "metadata": {},
          "execution_count": 21
        }
      ]
    },
    {
      "cell_type": "code",
      "source": [
        "'''9. Generate a NumPy array of 100 random integers between 0 and 1000. Find and display all prime numbers in\n",
        "this array.'''\n",
        "arr9=np.random.randint(0,1000,100)\n",
        "isprime=0\n",
        "for i in arr9:\n",
        "    if i>1:\n",
        "        isprime=0\n",
        "        for j in range(2,(i)):\n",
        "          if i%j==0:\n",
        "             isprime=5\n",
        "             break\n",
        "\n",
        "    if isprime==0:\n",
        "      print(i)\n"
      ],
      "metadata": {
        "colab": {
          "base_uri": "https://localhost:8080/"
        },
        "id": "TDnpVNBYMa8y",
        "outputId": "1efc5c3c-b1ac-4625-b355-d38365389ced"
      },
      "execution_count": null,
      "outputs": [
        {
          "output_type": "stream",
          "name": "stdout",
          "text": [
            "89\n",
            "457\n",
            "661\n",
            "139\n",
            "907\n",
            "389\n",
            "569\n",
            "821\n",
            "433\n",
            "571\n",
            "7\n",
            "59\n",
            "3\n",
            "467\n",
            "109\n",
            "47\n",
            "773\n",
            "967\n",
            "839\n"
          ]
        }
      ]
    },
    {
      "cell_type": "code",
      "source": [
        "'''10. Create a NumPy array representing daily temperatures for a month. Calculate and display the weekly\n",
        "averages.'''\n",
        "arr10=np.array([34,18,34,28,18,23,33,45,42,42,19,29,37,28,11,41,39,25,22,34,18,34,28,18,23,33,45,42])\n",
        "np.random.shuffle(arr10)\n",
        "r=arr10.reshape(4,7)\n",
        "print(r)\n",
        "np.mean(r,axis=1)"
      ],
      "metadata": {
        "colab": {
          "base_uri": "https://localhost:8080/"
        },
        "id": "8i7tNenyQU8G",
        "outputId": "956c11f5-6566-4e21-cec0-18e68e162af4"
      },
      "execution_count": null,
      "outputs": [
        {
          "output_type": "stream",
          "name": "stdout",
          "text": [
            "[[39 42 45 25 34 28 33]\n",
            " [41 28 18 42 23 34 18]\n",
            " [34 18 23 11 33 29 37]\n",
            " [34 28 45 42 22 19 18]]\n"
          ]
        },
        {
          "output_type": "execute_result",
          "data": {
            "text/plain": [
              "array([35.14285714, 29.14285714, 26.42857143, 29.71428571])"
            ]
          },
          "metadata": {},
          "execution_count": 44
        }
      ]
    },
    {
      "cell_type": "code",
      "source": [],
      "metadata": {
        "id": "akj4FTWNUNs3"
      },
      "execution_count": null,
      "outputs": []
    }
  ],
  "metadata": {
    "colab": {
      "provenance": []
    },
    "kernelspec": {
      "display_name": "Python 3",
      "name": "python3"
    },
    "language_info": {
      "name": "python"
    }
  },
  "nbformat": 4,
  "nbformat_minor": 0
}