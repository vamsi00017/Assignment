{
  "nbformat": 4,
  "nbformat_minor": 0,
  "metadata": {
    "colab": {
      "provenance": []
    },
    "kernelspec": {
      "name": "python3",
      "display_name": "Python 3"
    },
    "language_info": {
      "name": "python"
    }
  },
  "cells": [
    {
      "cell_type": "markdown",
      "source": [
        "1. Discuss string slicing and provide examples."
      ],
      "metadata": {
        "id": "-dOxzKdglQOC"
      }
    },
    {
      "cell_type": "code",
      "source": [
        "'''String Slicing is used to extract the sub strings by placing the positions of the\n",
        "\n",
        "requried sub string. and this method is also used to print the string backwards by giving negative index.'''\n",
        "\n",
        "st=\"vamsi\"\n",
        "\n",
        "print(st[1:3:2]) # st[start: stop : step size ] o/p: a\n",
        "\n",
        "print(st[::-1]) # this will print the string in reverse order op: ismav\n",
        "\n",
        "print(st[::2]) # you can keep the start,stop empty it will take it as default values\n",
        "\n",
        "print(st[2:4]) # to get a sub string with postions"
      ],
      "metadata": {
        "colab": {
          "base_uri": "https://localhost:8080/"
        },
        "id": "12AMdRRFlcyA",
        "outputId": "c51dfa7f-2d14-4f98-e0ac-6981cb29795c"
      },
      "execution_count": null,
      "outputs": [
        {
          "output_type": "stream",
          "name": "stdout",
          "text": [
            "a\n",
            "ismav\n",
            "vmi\n",
            "ms\n"
          ]
        }
      ]
    },
    {
      "cell_type": "markdown",
      "source": [
        "2. Explain the key features of lists in Python."
      ],
      "metadata": {
        "id": "5xBiYkB0lZ1a"
      }
    },
    {
      "cell_type": "code",
      "source": [
        "'''Lists are Mutable which hleps us to change the data when requried and Lists are ordered it will store the\n",
        "\n",
        "data as we given . It also takes the duplicates values and different datatypes and it can also store nested lists.\n",
        "\n",
        "List has built in functions like .append(),.remove(),.sort() etc'''\n",
        "\n"
      ],
      "metadata": {
        "colab": {
          "base_uri": "https://localhost:8080/",
          "height": 53
        },
        "id": "ej9FVJ_ymHtN",
        "outputId": "f1e8b3aa-2344-4800-85bd-c4ee4fbeaf53"
      },
      "execution_count": null,
      "outputs": [
        {
          "output_type": "execute_result",
          "data": {
            "text/plain": [
              "'Lists are Mutable which hleps us to change the data when requried and Lists are ordered it will store the \\n\\ndata as we given . It also takes the duplicates values and different datatypes and it can also store nested lists. \\n\\nList has built in functions like .append(),.remove(),.sort() etc'"
            ],
            "application/vnd.google.colaboratory.intrinsic+json": {
              "type": "string"
            }
          },
          "metadata": {},
          "execution_count": 2
        }
      ]
    },
    {
      "cell_type": "markdown",
      "source": [
        "3. Describe how to access, modify, and delete elements in a list with examples."
      ],
      "metadata": {
        "id": "Tc1ZKte_mPtZ"
      }
    },
    {
      "cell_type": "code",
      "source": [
        "l=[1,4,\"pw\",8+5j,[5,3]]\n",
        "\n",
        "#Access\n",
        "\n",
        "l[-2] # op: 8+5j\n",
        "\n",
        "#modify\n",
        "\n",
        "l[-3]=\"pw skill\"\n",
        "\n",
        "l[-3] #op:pw skill\n",
        "\n",
        "#delete\n",
        "\n",
        "del l[4]\n",
        "\n",
        "l[4] #op :error out of range\n",
        "\n",
        "l.remove(\"pw skill\")\n",
        "\n",
        "l.pop(1) #op: 4 will be removed\n",
        "\n",
        "\n",
        "\n",
        "\n",
        "\n"
      ],
      "metadata": {
        "id": "o9P-TNitmVbt"
      },
      "execution_count": null,
      "outputs": []
    },
    {
      "cell_type": "markdown",
      "source": [
        "4. Compare and contrast tuples and lists with examples.\n",
        "\n"
      ],
      "metadata": {
        "id": "Bk59Qye7moUi"
      }
    },
    {
      "cell_type": "code",
      "source": [
        "'''List and tuple had there own advantages, List and tuple are able to store different datatypes.\n",
        "\n",
        "List is Mutable and Tuple is immutable. Tuple is fixed in length and List is dynamic length.\n",
        "\n",
        "Tuple stores the same data in the list with low disk space.'''\n",
        "\n",
        "import sys\n",
        "\n",
        "l=[1,4,\"pw\",8+5j]\n",
        "\n",
        "t=(1,4,\"pw\",8+5j)\n",
        "\n",
        "#Memory utilization\n",
        "\n",
        "print (sys.getsizeof(l))\n",
        "\n",
        "print (sys.getsizeof(t))\n",
        "\n",
        "#mutable & Immutable\n",
        "\n",
        "l[0]=2 #here the data in the zero index will change\n",
        "\n",
        "t[0]=2 #here the data is immutable\n",
        "\n",
        "#Length\n",
        "\n",
        "l.append(\"vamsi\") #we can add a value to the list\n",
        "\n",
        "t (\"vamsi\") #we cannot add the value to the tuple\n",
        "\n",
        "\n",
        "\n"
      ],
      "metadata": {
        "id": "Fkdb9SVOmpzX"
      },
      "execution_count": null,
      "outputs": []
    },
    {
      "cell_type": "markdown",
      "source": [
        "5. Describe the key features of sets and provide examples of their use.\n",
        "\n"
      ],
      "metadata": {
        "id": "L-jzc-_0nqq2"
      }
    },
    {
      "cell_type": "code",
      "source": [
        "'''Sets are unordered ,Mutable,able to store different datatypes and it doesnot allows the duplicate values.\n",
        "\n",
        "Sets are also used to perform the operations like union,intersection,difference,symmetric difference '''\n",
        "\n",
        "s={1,4,\"pw\",8+5j,4,222,1,1,1,8+5j}\n",
        "\n",
        "s # it gives values by removing the duplicates\n",
        "\n",
        "s.add(5)\n",
        "\n",
        "s.update([\"pwSkills\"])\n",
        "\n",
        "s #update and add will get the added value also\n",
        "\n",
        "s1={1,2,3}\n",
        "\n",
        "s2={3,4,5}\n",
        "\n",
        "s1|s2 # union\n",
        "\n",
        "s1&s2 #intersection\n",
        "\n",
        "s1-s2 #difference\n",
        "\n"
      ],
      "metadata": {
        "colab": {
          "base_uri": "https://localhost:8080/"
        },
        "id": "yuqRg8YWnv38",
        "outputId": "140d81fe-38c8-450d-f6f5-91159fc19013"
      },
      "execution_count": null,
      "outputs": [
        {
          "output_type": "execute_result",
          "data": {
            "text/plain": [
              "{1, 2}"
            ]
          },
          "metadata": {},
          "execution_count": 5
        }
      ]
    },
    {
      "cell_type": "markdown",
      "source": [
        "6. Discuss the use cases of tuples and sets in Python programming.\n",
        "\n"
      ],
      "metadata": {
        "id": "ChZ5SLQ_n3dk"
      }
    },
    {
      "cell_type": "markdown",
      "source": [
        "''Tuples are used when there is requirement that the data should not be changed at anycase then we use the tuple like Bank account number aadhar number and Employee id etc...\n",
        "\n",
        "Sets are used when we want to store the data without duplicate values in that case we use it '''\n",
        "\n"
      ],
      "metadata": {
        "id": "1UzqYGZ4n7Tp"
      }
    },
    {
      "cell_type": "markdown",
      "source": [
        "7. Describe how to add, modify, and delete items in a dictionary with examples.\n",
        "\n"
      ],
      "metadata": {
        "id": "lRtCeToSn_hE"
      }
    },
    {
      "cell_type": "code",
      "source": [
        "dic={1:\"pw\",2:\"skills\",\"hi\":\"How are you ?\"}\n",
        "\n",
        "dic.keys() # this is used to get all the keys which are available in the dictionary\n",
        "\n",
        "dic.values() #this is used to get all the values in the dictionary\n",
        "\n",
        "dic[\"hi\"] # we need to give the key to get the value in the dictionary\n",
        "\n",
        "dic[\"address\"]=\"Hyd\" # we can add the data to the dictionary\n",
        "\n",
        "dic[\"address\"]=\"Vizag\" # we can change the values in the dictionary\n",
        "\n",
        "del dic[\"hi\"] # we need to give the key value which we want to delete\n",
        "\n",
        "dic\n",
        "\n"
      ],
      "metadata": {
        "colab": {
          "base_uri": "https://localhost:8080/"
        },
        "id": "A9UGmY20oHdF",
        "outputId": "434ae07d-a241-4dfc-c04b-1da314472031"
      },
      "execution_count": null,
      "outputs": [
        {
          "output_type": "execute_result",
          "data": {
            "text/plain": [
              "{1: 'pw', 2: 'skills', 'address': 'Vizag'}"
            ]
          },
          "metadata": {},
          "execution_count": 6
        }
      ]
    },
    {
      "cell_type": "markdown",
      "source": [
        "8. Discuss the importance of dictionary keys being immutable and provide examples.\n",
        "\n"
      ],
      "metadata": {
        "id": "Qu1y38IaoM2L"
      }
    },
    {
      "cell_type": "markdown",
      "source": [
        "'''Keys are important in the dictionary which are used to extract the values assigned to them.\n",
        "\n",
        "Dictionary follows the hash concept where the keys are stored linked to the hash.\n",
        "\n",
        "When ever the key is called then it will go to the hash and fetch the value to display\n",
        "\n",
        "so for every key value it has different hash value if the key is changed means then the hash value also changes\n",
        "\n",
        "which makes difficult to extract the value assigned to the key'''\n",
        "\n"
      ],
      "metadata": {
        "id": "hZlzQw54oZEK"
      }
    }
  ]
}